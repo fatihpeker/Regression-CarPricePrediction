{
 "cells": [
  {
   "cell_type": "code",
   "execution_count": 1,
   "metadata": {},
   "outputs": [],
   "source": [
    "import numpy as np\n",
    "import pandas as pd\n",
    "import matplotlib.pyplot as plt\n",
    "import seaborn as sbn"
   ]
  },
  {
   "cell_type": "code",
   "execution_count": 2,
   "metadata": {},
   "outputs": [],
   "source": [
    "dataFrame = pd.read_excel(\"merc.xlsx\")"
   ]
  },
  {
   "cell_type": "code",
   "execution_count": 3,
   "metadata": {},
   "outputs": [
    {
     "data": {
      "text/html": [
       "<div>\n",
       "<style scoped>\n",
       "    .dataframe tbody tr th:only-of-type {\n",
       "        vertical-align: middle;\n",
       "    }\n",
       "\n",
       "    .dataframe tbody tr th {\n",
       "        vertical-align: top;\n",
       "    }\n",
       "\n",
       "    .dataframe thead th {\n",
       "        text-align: right;\n",
       "    }\n",
       "</style>\n",
       "<table border=\"1\" class=\"dataframe\">\n",
       "  <thead>\n",
       "    <tr style=\"text-align: right;\">\n",
       "      <th></th>\n",
       "      <th>year</th>\n",
       "      <th>price</th>\n",
       "      <th>transmission</th>\n",
       "      <th>mileage</th>\n",
       "      <th>tax</th>\n",
       "      <th>mpg</th>\n",
       "      <th>engineSize</th>\n",
       "    </tr>\n",
       "  </thead>\n",
       "  <tbody>\n",
       "    <tr>\n",
       "      <th>0</th>\n",
       "      <td>2005</td>\n",
       "      <td>5200</td>\n",
       "      <td>Automatic</td>\n",
       "      <td>63000</td>\n",
       "      <td>325</td>\n",
       "      <td>32.1</td>\n",
       "      <td>1.8</td>\n",
       "    </tr>\n",
       "    <tr>\n",
       "      <th>1</th>\n",
       "      <td>2017</td>\n",
       "      <td>34948</td>\n",
       "      <td>Automatic</td>\n",
       "      <td>27000</td>\n",
       "      <td>20</td>\n",
       "      <td>61.4</td>\n",
       "      <td>2.1</td>\n",
       "    </tr>\n",
       "    <tr>\n",
       "      <th>2</th>\n",
       "      <td>2016</td>\n",
       "      <td>49948</td>\n",
       "      <td>Automatic</td>\n",
       "      <td>6200</td>\n",
       "      <td>555</td>\n",
       "      <td>28.0</td>\n",
       "      <td>5.5</td>\n",
       "    </tr>\n",
       "    <tr>\n",
       "      <th>3</th>\n",
       "      <td>2016</td>\n",
       "      <td>61948</td>\n",
       "      <td>Automatic</td>\n",
       "      <td>16000</td>\n",
       "      <td>325</td>\n",
       "      <td>30.4</td>\n",
       "      <td>4.0</td>\n",
       "    </tr>\n",
       "    <tr>\n",
       "      <th>4</th>\n",
       "      <td>2016</td>\n",
       "      <td>73948</td>\n",
       "      <td>Automatic</td>\n",
       "      <td>4000</td>\n",
       "      <td>325</td>\n",
       "      <td>30.1</td>\n",
       "      <td>4.0</td>\n",
       "    </tr>\n",
       "  </tbody>\n",
       "</table>\n",
       "</div>"
      ],
      "text/plain": [
       "   year  price transmission  mileage  tax   mpg  engineSize\n",
       "0  2005   5200    Automatic    63000  325  32.1         1.8\n",
       "1  2017  34948    Automatic    27000   20  61.4         2.1\n",
       "2  2016  49948    Automatic     6200  555  28.0         5.5\n",
       "3  2016  61948    Automatic    16000  325  30.4         4.0\n",
       "4  2016  73948    Automatic     4000  325  30.1         4.0"
      ]
     },
     "execution_count": 3,
     "metadata": {},
     "output_type": "execute_result"
    }
   ],
   "source": [
    "dataFrame.head()"
   ]
  },
  {
   "cell_type": "code",
   "execution_count": 4,
   "metadata": {},
   "outputs": [
    {
     "data": {
      "text/html": [
       "<div>\n",
       "<style scoped>\n",
       "    .dataframe tbody tr th:only-of-type {\n",
       "        vertical-align: middle;\n",
       "    }\n",
       "\n",
       "    .dataframe tbody tr th {\n",
       "        vertical-align: top;\n",
       "    }\n",
       "\n",
       "    .dataframe thead th {\n",
       "        text-align: right;\n",
       "    }\n",
       "</style>\n",
       "<table border=\"1\" class=\"dataframe\">\n",
       "  <thead>\n",
       "    <tr style=\"text-align: right;\">\n",
       "      <th></th>\n",
       "      <th>year</th>\n",
       "      <th>price</th>\n",
       "      <th>mileage</th>\n",
       "      <th>tax</th>\n",
       "      <th>mpg</th>\n",
       "      <th>engineSize</th>\n",
       "    </tr>\n",
       "  </thead>\n",
       "  <tbody>\n",
       "    <tr>\n",
       "      <th>count</th>\n",
       "      <td>13119.000000</td>\n",
       "      <td>13119.000000</td>\n",
       "      <td>13119.000000</td>\n",
       "      <td>13119.000000</td>\n",
       "      <td>13119.000000</td>\n",
       "      <td>13119.000000</td>\n",
       "    </tr>\n",
       "    <tr>\n",
       "      <th>mean</th>\n",
       "      <td>2017.296288</td>\n",
       "      <td>24698.596920</td>\n",
       "      <td>21949.559037</td>\n",
       "      <td>129.972178</td>\n",
       "      <td>55.155843</td>\n",
       "      <td>2.071530</td>\n",
       "    </tr>\n",
       "    <tr>\n",
       "      <th>std</th>\n",
       "      <td>2.224709</td>\n",
       "      <td>11842.675542</td>\n",
       "      <td>21176.512267</td>\n",
       "      <td>65.260286</td>\n",
       "      <td>15.220082</td>\n",
       "      <td>0.572426</td>\n",
       "    </tr>\n",
       "    <tr>\n",
       "      <th>min</th>\n",
       "      <td>1970.000000</td>\n",
       "      <td>650.000000</td>\n",
       "      <td>1.000000</td>\n",
       "      <td>0.000000</td>\n",
       "      <td>1.100000</td>\n",
       "      <td>0.000000</td>\n",
       "    </tr>\n",
       "    <tr>\n",
       "      <th>25%</th>\n",
       "      <td>2016.000000</td>\n",
       "      <td>17450.000000</td>\n",
       "      <td>6097.500000</td>\n",
       "      <td>125.000000</td>\n",
       "      <td>45.600000</td>\n",
       "      <td>1.800000</td>\n",
       "    </tr>\n",
       "    <tr>\n",
       "      <th>50%</th>\n",
       "      <td>2018.000000</td>\n",
       "      <td>22480.000000</td>\n",
       "      <td>15189.000000</td>\n",
       "      <td>145.000000</td>\n",
       "      <td>56.500000</td>\n",
       "      <td>2.000000</td>\n",
       "    </tr>\n",
       "    <tr>\n",
       "      <th>75%</th>\n",
       "      <td>2019.000000</td>\n",
       "      <td>28980.000000</td>\n",
       "      <td>31779.500000</td>\n",
       "      <td>145.000000</td>\n",
       "      <td>64.200000</td>\n",
       "      <td>2.100000</td>\n",
       "    </tr>\n",
       "    <tr>\n",
       "      <th>max</th>\n",
       "      <td>2020.000000</td>\n",
       "      <td>159999.000000</td>\n",
       "      <td>259000.000000</td>\n",
       "      <td>580.000000</td>\n",
       "      <td>217.300000</td>\n",
       "      <td>6.200000</td>\n",
       "    </tr>\n",
       "  </tbody>\n",
       "</table>\n",
       "</div>"
      ],
      "text/plain": [
       "               year          price        mileage           tax           mpg  \\\n",
       "count  13119.000000   13119.000000   13119.000000  13119.000000  13119.000000   \n",
       "mean    2017.296288   24698.596920   21949.559037    129.972178     55.155843   \n",
       "std        2.224709   11842.675542   21176.512267     65.260286     15.220082   \n",
       "min     1970.000000     650.000000       1.000000      0.000000      1.100000   \n",
       "25%     2016.000000   17450.000000    6097.500000    125.000000     45.600000   \n",
       "50%     2018.000000   22480.000000   15189.000000    145.000000     56.500000   \n",
       "75%     2019.000000   28980.000000   31779.500000    145.000000     64.200000   \n",
       "max     2020.000000  159999.000000  259000.000000    580.000000    217.300000   \n",
       "\n",
       "         engineSize  \n",
       "count  13119.000000  \n",
       "mean       2.071530  \n",
       "std        0.572426  \n",
       "min        0.000000  \n",
       "25%        1.800000  \n",
       "50%        2.000000  \n",
       "75%        2.100000  \n",
       "max        6.200000  "
      ]
     },
     "execution_count": 4,
     "metadata": {},
     "output_type": "execute_result"
    }
   ],
   "source": [
    "dataFrame.describe()"
   ]
  },
  {
   "cell_type": "code",
   "execution_count": 5,
   "metadata": {},
   "outputs": [
    {
     "data": {
      "text/plain": [
       "year            0\n",
       "price           0\n",
       "transmission    0\n",
       "mileage         0\n",
       "tax             0\n",
       "mpg             0\n",
       "engineSize      0\n",
       "dtype: int64"
      ]
     },
     "execution_count": 5,
     "metadata": {},
     "output_type": "execute_result"
    }
   ],
   "source": [
    "dataFrame.isnull().sum() #boş değer olan yer var mı kontrol ediyoruz"
   ]
  },
  {
   "cell_type": "code",
   "execution_count": 6,
   "metadata": {},
   "outputs": [
    {
     "data": {
      "text/plain": [
       "<matplotlib.axes._subplots.AxesSubplot at 0x12bcbaa7e50>"
      ]
     },
     "execution_count": 6,
     "metadata": {},
     "output_type": "execute_result"
    },
    {
     "data": {
      "image/png": "[encoded data removed]",
      "text/plain": [
       "<Figure size 504x360 with 1 Axes>"
      ]
     },
     "metadata": {
      "needs_background": "light"
     },
     "output_type": "display_data"
    }
   ],
   "source": [
    "plt.figure(figsize=(7,5))#Grafiğin boyutunu büyüttük\n",
    "sbn.distplot(dataFrame[\"price\"])"
   ]
  },
  {
   "cell_type": "code",
   "execution_count": 7,
   "metadata": {},
   "outputs": [
    {
     "data": {
      "text/plain": [
       "<matplotlib.axes._subplots.AxesSubplot at 0x12bcbd0eee0>"
      ]
     },
     "execution_count": 7,
     "metadata": {},
     "output_type": "execute_result"
    },
    {
     "data": {
      "image/png": "[encoded data removed]",
      "text/plain": [
       "<Figure size 432x288 with 1 Axes>"
      ]
     },
     "metadata": {
      "needs_background": "light"
     },
     "output_type": "display_data"
    }
   ],
   "source": [
    "sbn.countplot(dataFrame[\"year\"])"
   ]
  },
  {
   "cell_type": "code",
   "execution_count": 8,
   "metadata": {},
   "outputs": [
    {
     "data": {
      "text/html": [
       "<div>\n",
       "<style scoped>\n",
       "    .dataframe tbody tr th:only-of-type {\n",
       "        vertical-align: middle;\n",
       "    }\n",
       "\n",
       "    .dataframe tbody tr th {\n",
       "        vertical-align: top;\n",
       "    }\n",
       "\n",
       "    .dataframe thead th {\n",
       "        text-align: right;\n",
       "    }\n",
       "</style>\n",
       "<table border=\"1\" class=\"dataframe\">\n",
       "  <thead>\n",
       "    <tr style=\"text-align: right;\">\n",
       "      <th></th>\n",
       "      <th>year</th>\n",
       "      <th>price</th>\n",
       "      <th>mileage</th>\n",
       "      <th>tax</th>\n",
       "      <th>mpg</th>\n",
       "      <th>engineSize</th>\n",
       "    </tr>\n",
       "  </thead>\n",
       "  <tbody>\n",
       "    <tr>\n",
       "      <th>year</th>\n",
       "      <td>1.000000</td>\n",
       "      <td>0.520712</td>\n",
       "      <td>-0.738027</td>\n",
       "      <td>0.012480</td>\n",
       "      <td>-0.094626</td>\n",
       "      <td>-0.142147</td>\n",
       "    </tr>\n",
       "    <tr>\n",
       "      <th>price</th>\n",
       "      <td>0.520712</td>\n",
       "      <td>1.000000</td>\n",
       "      <td>-0.537214</td>\n",
       "      <td>0.268717</td>\n",
       "      <td>-0.438445</td>\n",
       "      <td>0.516126</td>\n",
       "    </tr>\n",
       "    <tr>\n",
       "      <th>mileage</th>\n",
       "      <td>-0.738027</td>\n",
       "      <td>-0.537214</td>\n",
       "      <td>1.000000</td>\n",
       "      <td>-0.160223</td>\n",
       "      <td>0.202850</td>\n",
       "      <td>0.063652</td>\n",
       "    </tr>\n",
       "    <tr>\n",
       "      <th>tax</th>\n",
       "      <td>0.012480</td>\n",
       "      <td>0.268717</td>\n",
       "      <td>-0.160223</td>\n",
       "      <td>1.000000</td>\n",
       "      <td>-0.513742</td>\n",
       "      <td>0.338341</td>\n",
       "    </tr>\n",
       "    <tr>\n",
       "      <th>mpg</th>\n",
       "      <td>-0.094626</td>\n",
       "      <td>-0.438445</td>\n",
       "      <td>0.202850</td>\n",
       "      <td>-0.513742</td>\n",
       "      <td>1.000000</td>\n",
       "      <td>-0.339862</td>\n",
       "    </tr>\n",
       "    <tr>\n",
       "      <th>engineSize</th>\n",
       "      <td>-0.142147</td>\n",
       "      <td>0.516126</td>\n",
       "      <td>0.063652</td>\n",
       "      <td>0.338341</td>\n",
       "      <td>-0.339862</td>\n",
       "      <td>1.000000</td>\n",
       "    </tr>\n",
       "  </tbody>\n",
       "</table>\n",
       "</div>"
      ],
      "text/plain": [
       "                year     price   mileage       tax       mpg  engineSize\n",
       "year        1.000000  0.520712 -0.738027  0.012480 -0.094626   -0.142147\n",
       "price       0.520712  1.000000 -0.537214  0.268717 -0.438445    0.516126\n",
       "mileage    -0.738027 -0.537214  1.000000 -0.160223  0.202850    0.063652\n",
       "tax         0.012480  0.268717 -0.160223  1.000000 -0.513742    0.338341\n",
       "mpg        -0.094626 -0.438445  0.202850 -0.513742  1.000000   -0.339862\n",
       "engineSize -0.142147  0.516126  0.063652  0.338341 -0.339862    1.000000"
      ]
     },
     "execution_count": 8,
     "metadata": {},
     "output_type": "execute_result"
    }
   ],
   "source": [
    "dataFrame.corr() #özellikler arasındaki korelasyon-ilişkiyi görmek için"
   ]
  },
  {
   "cell_type": "code",
   "execution_count": 9,
   "metadata": {},
   "outputs": [
    {
     "data": {
      "text/plain": [
       "mileage      -0.537214\n",
       "mpg          -0.438445\n",
       "tax           0.268717\n",
       "engineSize    0.516126\n",
       "year          0.520712\n",
       "price         1.000000\n",
       "Name: price, dtype: float64"
      ]
     },
     "execution_count": 9,
     "metadata": {},
     "output_type": "execute_result"
    }
   ],
   "source": [
    "dataFrame.corr()[\"price\"].sort_values() #sadece price için diğerleri ile olan ilişkilerini aldık ve sıralı gösterdik"
   ]
  },
  {
   "cell_type": "code",
   "execution_count": 11,
   "metadata": {},
   "outputs": [
    {
     "data": {
      "text/plain": [
       "<matplotlib.axes._subplots.AxesSubplot at 0x12bcca58730>"
      ]
     },
     "execution_count": 11,
     "metadata": {},
     "output_type": "execute_result"
    },
    {
     "data": {
      "image/png": "[encoded data removed]",
      "text/plain": [
       "<Figure size 432x288 with 1 Axes>"
      ]
     },
     "metadata": {
      "needs_background": "light"
     },
     "output_type": "display_data"
    }
   ],
   "source": [
    "sbn.scatterplot(x=\"mileage\",y=\"price\",data=dataFrame) #kiolometreye göre araç fiyatını çizdirdik. her özellikle denenebilir"
   ]
  },
  {
   "cell_type": "code",
   "execution_count": 12,
   "metadata": {},
   "outputs": [
    {
     "data": {
      "text/html": [
       "<div>\n",
       "<style scoped>\n",
       "    .dataframe tbody tr th:only-of-type {\n",
       "        vertical-align: middle;\n",
       "    }\n",
       "\n",
       "    .dataframe tbody tr th {\n",
       "        vertical-align: top;\n",
       "    }\n",
       "\n",
       "    .dataframe thead th {\n",
       "        text-align: right;\n",
       "    }\n",
       "</style>\n",
       "<table border=\"1\" class=\"dataframe\">\n",
       "  <thead>\n",
       "    <tr style=\"text-align: right;\">\n",
       "      <th></th>\n",
       "      <th>year</th>\n",
       "      <th>price</th>\n",
       "      <th>transmission</th>\n",
       "      <th>mileage</th>\n",
       "      <th>tax</th>\n",
       "      <th>mpg</th>\n",
       "      <th>engineSize</th>\n",
       "    </tr>\n",
       "  </thead>\n",
       "  <tbody>\n",
       "    <tr>\n",
       "      <th>6199</th>\n",
       "      <td>2020</td>\n",
       "      <td>159999</td>\n",
       "      <td>Semi-Auto</td>\n",
       "      <td>1350</td>\n",
       "      <td>145</td>\n",
       "      <td>21.4</td>\n",
       "      <td>4.0</td>\n",
       "    </tr>\n",
       "    <tr>\n",
       "      <th>10044</th>\n",
       "      <td>2020</td>\n",
       "      <td>154998</td>\n",
       "      <td>Automatic</td>\n",
       "      <td>3000</td>\n",
       "      <td>150</td>\n",
       "      <td>21.4</td>\n",
       "      <td>4.0</td>\n",
       "    </tr>\n",
       "    <tr>\n",
       "      <th>5</th>\n",
       "      <td>2011</td>\n",
       "      <td>149948</td>\n",
       "      <td>Automatic</td>\n",
       "      <td>3000</td>\n",
       "      <td>570</td>\n",
       "      <td>21.4</td>\n",
       "      <td>6.2</td>\n",
       "    </tr>\n",
       "    <tr>\n",
       "      <th>8737</th>\n",
       "      <td>2019</td>\n",
       "      <td>140319</td>\n",
       "      <td>Semi-Auto</td>\n",
       "      <td>785</td>\n",
       "      <td>150</td>\n",
       "      <td>22.1</td>\n",
       "      <td>4.0</td>\n",
       "    </tr>\n",
       "    <tr>\n",
       "      <th>6386</th>\n",
       "      <td>2018</td>\n",
       "      <td>139995</td>\n",
       "      <td>Semi-Auto</td>\n",
       "      <td>13046</td>\n",
       "      <td>145</td>\n",
       "      <td>21.4</td>\n",
       "      <td>4.0</td>\n",
       "    </tr>\n",
       "    <tr>\n",
       "      <th>8</th>\n",
       "      <td>2019</td>\n",
       "      <td>139948</td>\n",
       "      <td>Automatic</td>\n",
       "      <td>12000</td>\n",
       "      <td>145</td>\n",
       "      <td>21.4</td>\n",
       "      <td>4.0</td>\n",
       "    </tr>\n",
       "    <tr>\n",
       "      <th>9133</th>\n",
       "      <td>2019</td>\n",
       "      <td>139559</td>\n",
       "      <td>Semi-Auto</td>\n",
       "      <td>1000</td>\n",
       "      <td>145</td>\n",
       "      <td>22.1</td>\n",
       "      <td>4.0</td>\n",
       "    </tr>\n",
       "    <tr>\n",
       "      <th>8821</th>\n",
       "      <td>2020</td>\n",
       "      <td>138439</td>\n",
       "      <td>Semi-Auto</td>\n",
       "      <td>1000</td>\n",
       "      <td>145</td>\n",
       "      <td>22.1</td>\n",
       "      <td>4.0</td>\n",
       "    </tr>\n",
       "    <tr>\n",
       "      <th>5902</th>\n",
       "      <td>2018</td>\n",
       "      <td>135771</td>\n",
       "      <td>Semi-Auto</td>\n",
       "      <td>19000</td>\n",
       "      <td>145</td>\n",
       "      <td>21.4</td>\n",
       "      <td>4.0</td>\n",
       "    </tr>\n",
       "    <tr>\n",
       "      <th>7864</th>\n",
       "      <td>2018</td>\n",
       "      <td>135124</td>\n",
       "      <td>Semi-Auto</td>\n",
       "      <td>18234</td>\n",
       "      <td>150</td>\n",
       "      <td>21.4</td>\n",
       "      <td>4.0</td>\n",
       "    </tr>\n",
       "  </tbody>\n",
       "</table>\n",
       "</div>"
      ],
      "text/plain": [
       "       year   price transmission  mileage  tax   mpg  engineSize\n",
       "6199   2020  159999    Semi-Auto     1350  145  21.4         4.0\n",
       "10044  2020  154998    Automatic     3000  150  21.4         4.0\n",
       "5      2011  149948    Automatic     3000  570  21.4         6.2\n",
       "8737   2019  140319    Semi-Auto      785  150  22.1         4.0\n",
       "6386   2018  139995    Semi-Auto    13046  145  21.4         4.0\n",
       "8      2019  139948    Automatic    12000  145  21.4         4.0\n",
       "9133   2019  139559    Semi-Auto     1000  145  22.1         4.0\n",
       "8821   2020  138439    Semi-Auto     1000  145  22.1         4.0\n",
       "5902   2018  135771    Semi-Auto    19000  145  21.4         4.0\n",
       "7864   2018  135124    Semi-Auto    18234  150  21.4         4.0"
      ]
     },
     "execution_count": 12,
     "metadata": {},
     "output_type": "execute_result"
    }
   ],
   "source": [
    "dataFrame.sort_values(\"price\",ascending=False).head(10)"
   ]
  },
  {
   "cell_type": "code",
   "execution_count": 13,
   "metadata": {},
   "outputs": [],
   "source": [
    "#en pahalı arabaları ilk grafikten yaptığımız çıkarım ile verileren çıkarmak isteyebiliriz \n",
    "#Bu daha düzenli bir sonuç almamızı sağlayabilir. Sadece tercih meselesi"
   ]
  },
  {
   "cell_type": "code",
   "execution_count": 14,
   "metadata": {},
   "outputs": [
    {
     "data": {
      "text/plain": [
       "13119"
      ]
     },
     "execution_count": 14,
     "metadata": {},
     "output_type": "execute_result"
    }
   ],
   "source": [
    "len(dataFrame)"
   ]
  },
  {
   "cell_type": "code",
   "execution_count": 15,
   "metadata": {},
   "outputs": [
    {
     "data": {
      "text/plain": [
       "131.19"
      ]
     },
     "execution_count": 15,
     "metadata": {},
     "output_type": "execute_result"
    }
   ],
   "source": [
    "len(dataFrame)*0.01 #bir verinin %99 unu alıp işlem yapsak bu bizi etkilemez. 0.01 enpahalı arabayı atalım"
   ]
  },
  {
   "cell_type": "code",
   "execution_count": 17,
   "metadata": {},
   "outputs": [],
   "source": [
    "yuzdeDoksanDokuzDf = dataFrame.sort_values(\"price\",ascending=False).iloc[131:] #iloc[131:] 131 inciden sonrakileri getir. indexe göre almak için iloc kullanılır"
   ]
  },
  {
   "cell_type": "code",
   "execution_count": 18,
   "metadata": {},
   "outputs": [
    {
     "data": {
      "text/html": [
       "<div>\n",
       "<style scoped>\n",
       "    .dataframe tbody tr th:only-of-type {\n",
       "        vertical-align: middle;\n",
       "    }\n",
       "\n",
       "    .dataframe tbody tr th {\n",
       "        vertical-align: top;\n",
       "    }\n",
       "\n",
       "    .dataframe thead th {\n",
       "        text-align: right;\n",
       "    }\n",
       "</style>\n",
       "<table border=\"1\" class=\"dataframe\">\n",
       "  <thead>\n",
       "    <tr style=\"text-align: right;\">\n",
       "      <th></th>\n",
       "      <th>year</th>\n",
       "      <th>price</th>\n",
       "      <th>mileage</th>\n",
       "      <th>tax</th>\n",
       "      <th>mpg</th>\n",
       "      <th>engineSize</th>\n",
       "    </tr>\n",
       "  </thead>\n",
       "  <tbody>\n",
       "    <tr>\n",
       "      <th>count</th>\n",
       "      <td>12988.000000</td>\n",
       "      <td>12988.000000</td>\n",
       "      <td>12988.000000</td>\n",
       "      <td>12988.000000</td>\n",
       "      <td>12988.000000</td>\n",
       "      <td>12988.000000</td>\n",
       "    </tr>\n",
       "    <tr>\n",
       "      <th>mean</th>\n",
       "      <td>2017.281876</td>\n",
       "      <td>24074.926933</td>\n",
       "      <td>22132.741146</td>\n",
       "      <td>129.689714</td>\n",
       "      <td>55.437142</td>\n",
       "      <td>2.050901</td>\n",
       "    </tr>\n",
       "    <tr>\n",
       "      <th>std</th>\n",
       "      <td>2.228515</td>\n",
       "      <td>9866.224575</td>\n",
       "      <td>21196.776401</td>\n",
       "      <td>65.183076</td>\n",
       "      <td>15.025999</td>\n",
       "      <td>0.532596</td>\n",
       "    </tr>\n",
       "    <tr>\n",
       "      <th>min</th>\n",
       "      <td>1970.000000</td>\n",
       "      <td>650.000000</td>\n",
       "      <td>1.000000</td>\n",
       "      <td>0.000000</td>\n",
       "      <td>1.100000</td>\n",
       "      <td>0.000000</td>\n",
       "    </tr>\n",
       "    <tr>\n",
       "      <th>25%</th>\n",
       "      <td>2016.000000</td>\n",
       "      <td>17357.500000</td>\n",
       "      <td>6322.000000</td>\n",
       "      <td>125.000000</td>\n",
       "      <td>45.600000</td>\n",
       "      <td>1.675000</td>\n",
       "    </tr>\n",
       "    <tr>\n",
       "      <th>50%</th>\n",
       "      <td>2018.000000</td>\n",
       "      <td>22299.000000</td>\n",
       "      <td>15369.500000</td>\n",
       "      <td>145.000000</td>\n",
       "      <td>56.500000</td>\n",
       "      <td>2.000000</td>\n",
       "    </tr>\n",
       "    <tr>\n",
       "      <th>75%</th>\n",
       "      <td>2019.000000</td>\n",
       "      <td>28706.000000</td>\n",
       "      <td>31982.250000</td>\n",
       "      <td>145.000000</td>\n",
       "      <td>64.200000</td>\n",
       "      <td>2.100000</td>\n",
       "    </tr>\n",
       "    <tr>\n",
       "      <th>max</th>\n",
       "      <td>2020.000000</td>\n",
       "      <td>65990.000000</td>\n",
       "      <td>259000.000000</td>\n",
       "      <td>580.000000</td>\n",
       "      <td>217.300000</td>\n",
       "      <td>6.200000</td>\n",
       "    </tr>\n",
       "  </tbody>\n",
       "</table>\n",
       "</div>"
      ],
      "text/plain": [
       "               year         price        mileage           tax           mpg  \\\n",
       "count  12988.000000  12988.000000   12988.000000  12988.000000  12988.000000   \n",
       "mean    2017.281876  24074.926933   22132.741146    129.689714     55.437142   \n",
       "std        2.228515   9866.224575   21196.776401     65.183076     15.025999   \n",
       "min     1970.000000    650.000000       1.000000      0.000000      1.100000   \n",
       "25%     2016.000000  17357.500000    6322.000000    125.000000     45.600000   \n",
       "50%     2018.000000  22299.000000   15369.500000    145.000000     56.500000   \n",
       "75%     2019.000000  28706.000000   31982.250000    145.000000     64.200000   \n",
       "max     2020.000000  65990.000000  259000.000000    580.000000    217.300000   \n",
       "\n",
       "         engineSize  \n",
       "count  12988.000000  \n",
       "mean       2.050901  \n",
       "std        0.532596  \n",
       "min        0.000000  \n",
       "25%        1.675000  \n",
       "50%        2.000000  \n",
       "75%        2.100000  \n",
       "max        6.200000  "
      ]
     },
     "execution_count": 18,
     "metadata": {},
     "output_type": "execute_result"
    }
   ],
   "source": [
    "yuzdeDoksanDokuzDf.describe()"
   ]
  },
  {
   "cell_type": "code",
   "execution_count": 19,
   "metadata": {},
   "outputs": [
    {
     "data": {
      "text/plain": [
       "<matplotlib.axes._subplots.AxesSubplot at 0x12bce290280>"
      ]
     },
     "execution_count": 19,
     "metadata": {},
     "output_type": "execute_result"
    },
    {
     "data": {
      "image/png": "[encoded data removed]",
      "text/plain": [
       "<Figure size 504x360 with 1 Axes>"
      ]
     },
     "metadata": {
      "needs_background": "light"
     },
     "output_type": "display_data"
    }
   ],
   "source": [
    "plt.figure(figsize=(7,5))\n",
    "sbn.distplot(yuzdeDoksanDokuzDf[\"price\"])"
   ]
  },
  {
   "cell_type": "code",
   "execution_count": 21,
   "metadata": {},
   "outputs": [
    {
     "data": {
      "text/plain": [
       "year\n",
       "1970    24999.000000\n",
       "1997     9995.000000\n",
       "1998     8605.000000\n",
       "1999     5995.000000\n",
       "2000     5743.333333\n",
       "2001     4957.900000\n",
       "2002     5820.444444\n",
       "2003     4878.000000\n",
       "2004     4727.615385\n",
       "2005     4426.111111\n",
       "2006     4036.875000\n",
       "2007     5136.045455\n",
       "2008     6967.437500\n",
       "2009     6166.764706\n",
       "2010     8308.473684\n",
       "2011    12624.894737\n",
       "2012    10845.140351\n",
       "2013    11939.842466\n",
       "2014    14042.936864\n",
       "2015    16731.780020\n",
       "2016    19307.892948\n",
       "2017    21514.307854\n",
       "2018    25720.162918\n",
       "2019    31290.020865\n",
       "2020    35433.282337\n",
       "Name: price, dtype: float64"
      ]
     },
     "execution_count": 21,
     "metadata": {},
     "output_type": "execute_result"
    }
   ],
   "source": [
    "dataFrame.groupby(\"year\").mean()[\"price\"]"
   ]
  },
  {
   "cell_type": "code",
   "execution_count": 22,
   "metadata": {},
   "outputs": [
    {
     "data": {
      "text/plain": [
       "year\n",
       "1970    24999.000000\n",
       "1997     9995.000000\n",
       "1998     8605.000000\n",
       "1999     5995.000000\n",
       "2000     5743.333333\n",
       "2001     4957.900000\n",
       "2002     5820.444444\n",
       "2003     4878.000000\n",
       "2004     4727.615385\n",
       "2005     4426.111111\n",
       "2006     4036.875000\n",
       "2007     5136.045455\n",
       "2008     6967.437500\n",
       "2009     6166.764706\n",
       "2010     8308.473684\n",
       "2011     8913.459459\n",
       "2012    10845.140351\n",
       "2013    11939.842466\n",
       "2014    14042.936864\n",
       "2015    16647.822222\n",
       "2016    19223.558943\n",
       "2017    21356.280421\n",
       "2018    24800.844506\n",
       "2019    30289.524832\n",
       "2020    34234.794872\n",
       "Name: price, dtype: float64"
      ]
     },
     "execution_count": 22,
     "metadata": {},
     "output_type": "execute_result"
    }
   ],
   "source": [
    "yuzdeDoksanDokuzDf.groupby(\"year\").mean()[\"price\"]"
   ]
  },
  {
   "cell_type": "code",
   "execution_count": 24,
   "metadata": {},
   "outputs": [
    {
     "data": {
      "text/plain": [
       "year\n",
       "1997     9995.000000\n",
       "1998     8605.000000\n",
       "1999     5995.000000\n",
       "2000     5743.333333\n",
       "2001     4957.900000\n",
       "2002     5820.444444\n",
       "2003     4878.000000\n",
       "2004     4727.615385\n",
       "2005     4426.111111\n",
       "2006     4036.875000\n",
       "2007     5136.045455\n",
       "2008     6967.437500\n",
       "2009     6166.764706\n",
       "2010     8308.473684\n",
       "2011     8913.459459\n",
       "2012    10845.140351\n",
       "2013    11939.842466\n",
       "2014    14042.936864\n",
       "2015    16647.822222\n",
       "2016    19223.558943\n",
       "2017    21356.280421\n",
       "2018    24800.844506\n",
       "2019    30289.524832\n",
       "2020    34234.794872\n",
       "Name: price, dtype: float64"
      ]
     },
     "execution_count": 24,
     "metadata": {},
     "output_type": "execute_result"
    }
   ],
   "source": [
    "dataFrame =yuzdeDoksanDokuzDf\n",
    "dataFrame[dataFrame.year != 1970].groupby(\"year\").mean()[\"price\"] #yıllara göre ortalama fiyata bakınca 1970 yılındaki fiyat anormal"
   ]
  },
  {
   "cell_type": "code",
   "execution_count": 25,
   "metadata": {},
   "outputs": [],
   "source": [
    "dataFrame = dataFrame[dataFrame.year != 1970] #1970 yılı harici diğer verileri alıp dataFrame imize atıyoruz"
   ]
  },
  {
   "cell_type": "code",
   "execution_count": 26,
   "metadata": {},
   "outputs": [
    {
     "data": {
      "text/plain": [
       "year\n",
       "1997     9995.000000\n",
       "1998     8605.000000\n",
       "1999     5995.000000\n",
       "2000     5743.333333\n",
       "2001     4957.900000\n",
       "2002     5820.444444\n",
       "2003     4878.000000\n",
       "2004     4727.615385\n",
       "2005     4426.111111\n",
       "2006     4036.875000\n",
       "2007     5136.045455\n",
       "2008     6967.437500\n",
       "2009     6166.764706\n",
       "2010     8308.473684\n",
       "2011     8913.459459\n",
       "2012    10845.140351\n",
       "2013    11939.842466\n",
       "2014    14042.936864\n",
       "2015    16647.822222\n",
       "2016    19223.558943\n",
       "2017    21356.280421\n",
       "2018    24800.844506\n",
       "2019    30289.524832\n",
       "2020    34234.794872\n",
       "Name: price, dtype: float64"
      ]
     },
     "execution_count": 26,
     "metadata": {},
     "output_type": "execute_result"
    }
   ],
   "source": [
    "dataFrame.groupby(\"year\").mean()[\"price\"]"
   ]
  },
  {
   "cell_type": "code",
   "execution_count": 27,
   "metadata": {},
   "outputs": [
    {
     "data": {
      "text/html": [
       "<div>\n",
       "<style scoped>\n",
       "    .dataframe tbody tr th:only-of-type {\n",
       "        vertical-align: middle;\n",
       "    }\n",
       "\n",
       "    .dataframe tbody tr th {\n",
       "        vertical-align: top;\n",
       "    }\n",
       "\n",
       "    .dataframe thead th {\n",
       "        text-align: right;\n",
       "    }\n",
       "</style>\n",
       "<table border=\"1\" class=\"dataframe\">\n",
       "  <thead>\n",
       "    <tr style=\"text-align: right;\">\n",
       "      <th></th>\n",
       "      <th>year</th>\n",
       "      <th>price</th>\n",
       "      <th>transmission</th>\n",
       "      <th>mileage</th>\n",
       "      <th>tax</th>\n",
       "      <th>mpg</th>\n",
       "      <th>engineSize</th>\n",
       "    </tr>\n",
       "  </thead>\n",
       "  <tbody>\n",
       "    <tr>\n",
       "      <th>6177</th>\n",
       "      <td>2019</td>\n",
       "      <td>65990</td>\n",
       "      <td>Semi-Auto</td>\n",
       "      <td>5076</td>\n",
       "      <td>150</td>\n",
       "      <td>30.4</td>\n",
       "      <td>3.0</td>\n",
       "    </tr>\n",
       "    <tr>\n",
       "      <th>5779</th>\n",
       "      <td>2020</td>\n",
       "      <td>65990</td>\n",
       "      <td>Semi-Auto</td>\n",
       "      <td>999</td>\n",
       "      <td>145</td>\n",
       "      <td>28.0</td>\n",
       "      <td>4.0</td>\n",
       "    </tr>\n",
       "    <tr>\n",
       "      <th>3191</th>\n",
       "      <td>2020</td>\n",
       "      <td>65980</td>\n",
       "      <td>Semi-Auto</td>\n",
       "      <td>3999</td>\n",
       "      <td>145</td>\n",
       "      <td>28.0</td>\n",
       "      <td>4.0</td>\n",
       "    </tr>\n",
       "    <tr>\n",
       "      <th>4727</th>\n",
       "      <td>2019</td>\n",
       "      <td>65000</td>\n",
       "      <td>Semi-Auto</td>\n",
       "      <td>3398</td>\n",
       "      <td>145</td>\n",
       "      <td>27.2</td>\n",
       "      <td>4.0</td>\n",
       "    </tr>\n",
       "    <tr>\n",
       "      <th>8814</th>\n",
       "      <td>2019</td>\n",
       "      <td>64999</td>\n",
       "      <td>Semi-Auto</td>\n",
       "      <td>119</td>\n",
       "      <td>145</td>\n",
       "      <td>40.9</td>\n",
       "      <td>3.0</td>\n",
       "    </tr>\n",
       "  </tbody>\n",
       "</table>\n",
       "</div>"
      ],
      "text/plain": [
       "      year  price transmission  mileage  tax   mpg  engineSize\n",
       "6177  2019  65990    Semi-Auto     5076  150  30.4         3.0\n",
       "5779  2020  65990    Semi-Auto      999  145  28.0         4.0\n",
       "3191  2020  65980    Semi-Auto     3999  145  28.0         4.0\n",
       "4727  2019  65000    Semi-Auto     3398  145  27.2         4.0\n",
       "8814  2019  64999    Semi-Auto      119  145  40.9         3.0"
      ]
     },
     "execution_count": 27,
     "metadata": {},
     "output_type": "execute_result"
    }
   ],
   "source": [
    "dataFrame.head()"
   ]
  },
  {
   "cell_type": "code",
   "execution_count": 28,
   "metadata": {},
   "outputs": [],
   "source": [
    "dataFrame = dataFrame.drop(\"transmission\",axis=1) #transmission sayısal bir değeri olmadığından eğitime sokmak istemiyoruz ve onu çıkarıyoruz"
   ]
  },
  {
   "cell_type": "code",
   "execution_count": 29,
   "metadata": {},
   "outputs": [],
   "source": [
    "y = dataFrame[\"price\"].values\n",
    "x = dataFrame.drop(\"price\",axis=1).values"
   ]
  },
  {
   "cell_type": "code",
   "execution_count": 30,
   "metadata": {},
   "outputs": [],
   "source": [
    "from sklearn.model_selection import train_test_split"
   ]
  },
  {
   "cell_type": "code",
   "execution_count": 31,
   "metadata": {},
   "outputs": [],
   "source": [
    "x_train, x_test, y_train, y_test = train_test_split(x, y, test_size=0.3, random_state=10)"
   ]
  },
  {
   "cell_type": "code",
   "execution_count": 32,
   "metadata": {},
   "outputs": [
    {
     "data": {
      "text/plain": [
       "9090"
      ]
     },
     "execution_count": 32,
     "metadata": {},
     "output_type": "execute_result"
    }
   ],
   "source": [
    "len(x_train)"
   ]
  },
  {
   "cell_type": "code",
   "execution_count": 33,
   "metadata": {},
   "outputs": [
    {
     "data": {
      "text/plain": [
       "3897"
      ]
     },
     "execution_count": 33,
     "metadata": {},
     "output_type": "execute_result"
    }
   ],
   "source": [
    "len(x_test)"
   ]
  },
  {
   "cell_type": "code",
   "execution_count": 34,
   "metadata": {},
   "outputs": [],
   "source": [
    "from sklearn.preprocessing import MinMaxScaler"
   ]
  },
  {
   "cell_type": "code",
   "execution_count": 35,
   "metadata": {},
   "outputs": [],
   "source": [
    "scaler = MinMaxScaler()"
   ]
  },
  {
   "cell_type": "code",
   "execution_count": 36,
   "metadata": {},
   "outputs": [],
   "source": [
    "x_train = scaler.fit_transform(x_train) #hem fit hemde transform işlemini aynı anda yaptık\n",
    "x_test = scaler.transform(x_test)"
   ]
  },
  {
   "cell_type": "code",
   "execution_count": 37,
   "metadata": {},
   "outputs": [],
   "source": [
    "from tensorflow.keras.models import Sequential\n",
    "from tensorflow.keras.layers import Dense"
   ]
  },
  {
   "cell_type": "code",
   "execution_count": 38,
   "metadata": {},
   "outputs": [],
   "source": [
    "#model oluşturup, içine katmanlar koyup, o katmanlardaki nöron sayısını verip, aktivasyon fonksiyonunu ve optimizeri belirledik\n",
    "#bunların görseli için A neural network playground sitesine bakabilirsin\n",
    "model = Sequential()\n",
    "\n",
    "model.add(Dense(12,activation=\"relu\"))\n",
    "model.add(Dense(12,activation=\"relu\"))\n",
    "model.add(Dense(12,activation=\"relu\"))\n",
    "model.add(Dense(12,activation=\"relu\"))\n",
    "\n",
    "model.add(Dense(1))\n",
    "\n",
    "model.compile(optimizer=\"adam\",loss=\"mse\")"
   ]
  },
  {
   "cell_type": "code",
   "execution_count": 39,
   "metadata": {},
   "outputs": [
    {
     "name": "stdout",
     "output_type": "stream",
     "text": [
      "Epoch 1/300\n",
      "37/37 [==============================] - 3s 25ms/step - loss: 663674878.3158 - val_loss: 688097152.0000\n",
      "Epoch 2/300\n",
      "37/37 [==============================] - 0s 2ms/step - loss: 672448488.4211 - val_loss: 688044416.0000\n",
      "Epoch 3/300\n",
      "37/37 [==============================] - 0s 2ms/step - loss: 677286106.9474 - val_loss: 687893888.0000\n",
      "Epoch 4/300\n",
      "37/37 [==============================] - 0s 2ms/step - loss: 673044335.1579 - val_loss: 687484352.0000\n",
      "Epoch 5/300\n",
      "37/37 [==============================] - 0s 2ms/step - loss: 677171304.4211 - val_loss: 686432960.0000\n",
      "Epoch 6/300\n",
      "37/37 [==============================] - 0s 2ms/step - loss: 672660719.1579 - val_loss: 683989248.0000\n",
      "Epoch 7/300\n",
      "37/37 [==============================] - 0s 2ms/step - loss: 660542164.2105 - val_loss: 678954560.0000\n",
      "Epoch 8/300\n",
      "37/37 [==============================] - 0s 2ms/step - loss: 659935644.6316 - val_loss: 669338176.0000\n",
      "Epoch 9/300\n",
      "37/37 [==============================] - 0s 2ms/step - loss: 654296330.1053 - val_loss: 652245376.0000\n",
      "Epoch 10/300\n",
      "37/37 [==============================] - 0s 2ms/step - loss: 638372879.1579 - val_loss: 624572352.0000\n",
      "Epoch 11/300\n",
      "37/37 [==============================] - 0s 2ms/step - loss: 607309765.0526 - val_loss: 583109376.0000\n",
      "Epoch 12/300\n",
      "37/37 [==============================] - 0s 2ms/step - loss: 549535444.2105 - val_loss: 525620064.0000\n",
      "Epoch 13/300\n",
      "37/37 [==============================] - 0s 2ms/step - loss: 494018090.1053 - val_loss: 452144992.0000\n",
      "Epoch 14/300\n",
      "37/37 [==============================] - 0s 2ms/step - loss: 423881306.9474 - val_loss: 366565696.0000\n",
      "Epoch 15/300\n",
      "37/37 [==============================] - 0s 2ms/step - loss: 330058205.4737 - val_loss: 278271104.0000\n",
      "Epoch 16/300\n",
      "37/37 [==============================] - 0s 2ms/step - loss: 243293862.7368 - val_loss: 199533104.0000\n",
      "Epoch 17/300\n",
      "37/37 [==============================] - 0s 2ms/step - loss: 176989542.3158 - val_loss: 141819728.0000\n",
      "Epoch 18/300\n",
      "37/37 [==============================] - 0s 2ms/step - loss: 132190111.1579 - val_loss: 109409280.0000\n",
      "Epoch 19/300\n",
      "37/37 [==============================] - 0s 2ms/step - loss: 104031200.0000 - val_loss: 96098624.0000\n",
      "Epoch 20/300\n",
      "37/37 [==============================] - 0s 2ms/step - loss: 91809204.0000 - val_loss: 91605056.0000\n",
      "Epoch 21/300\n",
      "37/37 [==============================] - 0s 2ms/step - loss: 90980381.0526 - val_loss: 90028960.0000\n",
      "Epoch 22/300\n",
      "37/37 [==============================] - 0s 2ms/step - loss: 86587756.6316 - val_loss: 89253280.0000\n",
      "Epoch 23/300\n",
      "37/37 [==============================] - 0s 2ms/step - loss: 87076127.3684 - val_loss: 88616904.0000\n",
      "Epoch 24/300\n",
      "37/37 [==============================] - 0s 2ms/step - loss: 84176203.3684 - val_loss: 88115384.0000\n",
      "Epoch 25/300\n",
      "37/37 [==============================] - 0s 2ms/step - loss: 84915512.8421 - val_loss: 87632600.0000\n",
      "Epoch 26/300\n",
      "37/37 [==============================] - 0s 2ms/step - loss: 84504555.3684 - val_loss: 87171160.0000\n",
      "Epoch 27/300\n",
      "37/37 [==============================] - 0s 2ms/step - loss: 85293185.8947 - val_loss: 86717280.0000\n",
      "Epoch 28/300\n",
      "37/37 [==============================] - 0s 2ms/step - loss: 86484974.1053 - val_loss: 86256496.0000\n",
      "Epoch 29/300\n",
      "37/37 [==============================] - 0s 2ms/step - loss: 86511237.6842 - val_loss: 85826672.0000\n",
      "Epoch 30/300\n",
      "37/37 [==============================] - 0s 3ms/step - loss: 85113108.6316 - val_loss: 85409744.0000\n",
      "Epoch 31/300\n",
      "37/37 [==============================] - 0s 3ms/step - loss: 83164176.2105 - val_loss: 84995976.0000\n",
      "Epoch 32/300\n",
      "37/37 [==============================] - 0s 2ms/step - loss: 86011453.8947 - val_loss: 84564920.0000\n",
      "Epoch 33/300\n",
      "37/37 [==============================] - 0s 3ms/step - loss: 82051106.5263 - val_loss: 84159920.0000\n",
      "Epoch 34/300\n",
      "37/37 [==============================] - 0s 3ms/step - loss: 82189070.1053 - val_loss: 83732072.0000\n",
      "Epoch 35/300\n",
      "37/37 [==============================] - 0s 2ms/step - loss: 84330174.5263 - val_loss: 83318328.0000\n",
      "Epoch 36/300\n",
      "37/37 [==============================] - 0s 2ms/step - loss: 81221047.7895 - val_loss: 82928712.0000\n",
      "Epoch 37/300\n",
      "37/37 [==============================] - 0s 3ms/step - loss: 82836497.2632 - val_loss: 82547376.0000\n",
      "Epoch 38/300\n",
      "37/37 [==============================] - 0s 2ms/step - loss: 82040361.4737 - val_loss: 82146248.0000\n",
      "Epoch 39/300\n",
      "37/37 [==============================] - 0s 2ms/step - loss: 78577606.3158 - val_loss: 81750000.0000\n",
      "Epoch 40/300\n",
      "37/37 [==============================] - 0s 2ms/step - loss: 78735585.0526 - val_loss: 81324448.0000\n",
      "Epoch 41/300\n",
      "37/37 [==============================] - 0s 2ms/step - loss: 80523522.9474 - val_loss: 80926088.0000\n",
      "Epoch 42/300\n",
      "37/37 [==============================] - 0s 2ms/step - loss: 78085060.8421 - val_loss: 80576184.0000\n",
      "Epoch 43/300\n",
      "37/37 [==============================] - 0s 2ms/step - loss: 77529268.6316 - val_loss: 80142688.0000\n",
      "Epoch 44/300\n",
      "37/37 [==============================] - 0s 2ms/step - loss: 81146618.7368 - val_loss: 79776528.0000\n",
      "Epoch 45/300\n",
      "37/37 [==============================] - 0s 2ms/step - loss: 78255442.2105 - val_loss: 79371208.0000\n",
      "Epoch 46/300\n",
      "37/37 [==============================] - 0s 2ms/step - loss: 76775333.6842 - val_loss: 78984720.0000\n",
      "Epoch 47/300\n",
      "37/37 [==============================] - 0s 2ms/step - loss: 78840263.7895 - val_loss: 78585568.0000\n",
      "Epoch 48/300\n",
      "37/37 [==============================] - 0s 3ms/step - loss: 75191692.6316 - val_loss: 78192528.0000\n",
      "Epoch 49/300\n",
      "37/37 [==============================] - 0s 3ms/step - loss: 77427823.3684 - val_loss: 77788000.0000\n",
      "Epoch 50/300\n",
      "37/37 [==============================] - 0s 2ms/step - loss: 77464646.7368 - val_loss: 77411520.0000\n",
      "Epoch 51/300\n",
      "37/37 [==============================] - 0s 2ms/step - loss: 76330429.4737 - val_loss: 77000264.0000\n",
      "Epoch 52/300\n",
      "37/37 [==============================] - 0s 2ms/step - loss: 76592433.2632 - val_loss: 76609696.0000\n",
      "Epoch 53/300\n",
      "37/37 [==============================] - 0s 2ms/step - loss: 74698334.7368 - val_loss: 76192912.0000\n",
      "Epoch 54/300\n",
      "37/37 [==============================] - 0s 2ms/step - loss: 71696121.1579 - val_loss: 75820120.0000\n",
      "Epoch 55/300\n",
      "37/37 [==============================] - 0s 2ms/step - loss: 72947525.0526 - val_loss: 75391864.0000\n",
      "Epoch 56/300\n",
      "37/37 [==============================] - 0s 2ms/step - loss: 76391806.1053 - val_loss: 75001080.0000\n",
      "Epoch 57/300\n",
      "37/37 [==============================] - 0s 2ms/step - loss: 73694585.2632 - val_loss: 74599560.0000\n",
      "Epoch 58/300\n",
      "37/37 [==============================] - 0s 2ms/step - loss: 72878226.8421 - val_loss: 74201336.0000\n",
      "Epoch 59/300\n",
      "37/37 [==============================] - 0s 2ms/step - loss: 74242455.1579 - val_loss: 73776392.0000\n",
      "Epoch 60/300\n",
      "37/37 [==============================] - 0s 2ms/step - loss: 71926135.1579 - val_loss: 73357080.0000\n",
      "Epoch 61/300\n",
      "37/37 [==============================] - 0s 2ms/step - loss: 70170851.6842 - val_loss: 72948064.0000\n",
      "Epoch 62/300\n",
      "37/37 [==============================] - 0s 2ms/step - loss: 72148537.8947 - val_loss: 72539416.0000\n",
      "Epoch 63/300\n",
      "37/37 [==============================] - 0s 3ms/step - loss: 73477454.3158 - val_loss: 72115784.0000\n",
      "Epoch 64/300\n",
      "37/37 [==============================] - 0s 2ms/step - loss: 71397834.1053 - val_loss: 71694240.0000\n",
      "Epoch 65/300\n",
      "37/37 [==============================] - 0s 2ms/step - loss: 71058651.5789 - val_loss: 71290712.0000\n",
      "Epoch 66/300\n",
      "37/37 [==============================] - 0s 3ms/step - loss: 69391788.4211 - val_loss: 70827952.0000\n",
      "Epoch 67/300\n",
      "37/37 [==============================] - 0s 3ms/step - loss: 69168235.8947 - val_loss: 70423424.0000\n",
      "Epoch 68/300\n",
      "37/37 [==============================] - 0s 2ms/step - loss: 69092817.8947 - val_loss: 69968432.0000\n",
      "Epoch 69/300\n",
      "37/37 [==============================] - 0s 2ms/step - loss: 67808944.2105 - val_loss: 69511528.0000\n",
      "Epoch 70/300\n",
      "37/37 [==============================] - 0s 2ms/step - loss: 67644801.8947 - val_loss: 69107008.0000\n",
      "Epoch 71/300\n",
      "37/37 [==============================] - 0s 2ms/step - loss: 66111044.0000 - val_loss: 68636752.0000\n",
      "Epoch 72/300\n"
     ]
    },
    {
     "name": "stdout",
     "output_type": "stream",
     "text": [
      "37/37 [==============================] - 0s 2ms/step - loss: 68434052.2105 - val_loss: 68172376.0000\n",
      "Epoch 73/300\n",
      "37/37 [==============================] - 0s 2ms/step - loss: 67366862.2105 - val_loss: 67758240.0000\n",
      "Epoch 74/300\n",
      "37/37 [==============================] - 0s 2ms/step - loss: 65719323.7895 - val_loss: 67272208.0000\n",
      "Epoch 75/300\n",
      "37/37 [==============================] - 0s 2ms/step - loss: 65399718.9474 - val_loss: 66804808.0000\n",
      "Epoch 76/300\n",
      "37/37 [==============================] - 0s 3ms/step - loss: 65312682.4211 - val_loss: 66340680.0000\n",
      "Epoch 77/300\n",
      "37/37 [==============================] - 0s 3ms/step - loss: 64041199.4737 - val_loss: 65840072.0000\n",
      "Epoch 78/300\n",
      "37/37 [==============================] - 0s 2ms/step - loss: 62993654.4211 - val_loss: 65374228.0000\n",
      "Epoch 79/300\n",
      "37/37 [==============================] - 0s 2ms/step - loss: 62461886.3158 - val_loss: 64862536.0000\n",
      "Epoch 80/300\n",
      "37/37 [==============================] - 0s 2ms/step - loss: 62477947.5789 - val_loss: 64379324.0000\n",
      "Epoch 81/300\n",
      "37/37 [==============================] - 0s 2ms/step - loss: 61612494.5263 - val_loss: 63870140.0000\n",
      "Epoch 82/300\n",
      "37/37 [==============================] - 0s 2ms/step - loss: 60461487.0526 - val_loss: 63354952.0000\n",
      "Epoch 83/300\n",
      "37/37 [==============================] - 0s 2ms/step - loss: 61908291.0526 - val_loss: 62831620.0000\n",
      "Epoch 84/300\n",
      "37/37 [==============================] - 0s 2ms/step - loss: 58435627.5789 - val_loss: 62291012.0000\n",
      "Epoch 85/300\n",
      "37/37 [==============================] - 0s 2ms/step - loss: 61983082.6316 - val_loss: 61778956.0000\n",
      "Epoch 86/300\n",
      "37/37 [==============================] - 0s 2ms/step - loss: 58769532.7368 - val_loss: 61213080.0000\n",
      "Epoch 87/300\n",
      "37/37 [==============================] - 0s 2ms/step - loss: 59028186.7368 - val_loss: 60677508.0000\n",
      "Epoch 88/300\n",
      "37/37 [==============================] - 0s 2ms/step - loss: 58259421.1579 - val_loss: 60108376.0000\n",
      "Epoch 89/300\n",
      "37/37 [==============================] - 0s 2ms/step - loss: 57081887.0526 - val_loss: 59535756.0000\n",
      "Epoch 90/300\n",
      "37/37 [==============================] - 0s 2ms/step - loss: 58992202.5263 - val_loss: 58957792.0000\n",
      "Epoch 91/300\n",
      "37/37 [==============================] - 0s 2ms/step - loss: 59060524.5263 - val_loss: 58362548.0000\n",
      "Epoch 92/300\n",
      "37/37 [==============================] - 0s 2ms/step - loss: 55084475.7895 - val_loss: 57762764.0000\n",
      "Epoch 93/300\n",
      "37/37 [==============================] - 0s 2ms/step - loss: 55272136.7368 - val_loss: 57169800.0000\n",
      "Epoch 94/300\n",
      "37/37 [==============================] - 0s 2ms/step - loss: 57734702.0000 - val_loss: 56531212.0000\n",
      "Epoch 95/300\n",
      "37/37 [==============================] - 0s 2ms/step - loss: 55590407.4737 - val_loss: 55879508.0000\n",
      "Epoch 96/300\n",
      "37/37 [==============================] - 0s 2ms/step - loss: 54267195.8947 - val_loss: 55250536.0000\n",
      "Epoch 97/300\n",
      "37/37 [==============================] - 0s 2ms/step - loss: 52021550.8421 - val_loss: 54571436.0000\n",
      "Epoch 98/300\n",
      "37/37 [==============================] - 0s 2ms/step - loss: 52537001.3684 - val_loss: 53911324.0000\n",
      "Epoch 99/300\n",
      "37/37 [==============================] - 0s 2ms/step - loss: 52001250.2105 - val_loss: 53244612.0000\n",
      "Epoch 100/300\n",
      "37/37 [==============================] - 0s 2ms/step - loss: 52400903.6842 - val_loss: 52558620.0000\n",
      "Epoch 101/300\n",
      "37/37 [==============================] - 0s 2ms/step - loss: 50142252.7368 - val_loss: 51843552.0000\n",
      "Epoch 102/300\n",
      "37/37 [==============================] - 0s 2ms/step - loss: 48783917.5789 - val_loss: 51136160.0000\n",
      "Epoch 103/300\n",
      "37/37 [==============================] - 0s 2ms/step - loss: 50818768.8421 - val_loss: 50432152.0000\n",
      "Epoch 104/300\n",
      "37/37 [==============================] - 0s 2ms/step - loss: 47161199.1579 - val_loss: 49700664.0000\n",
      "Epoch 105/300\n",
      "37/37 [==============================] - 0s 2ms/step - loss: 48621084.6316 - val_loss: 48950500.0000\n",
      "Epoch 106/300\n",
      "37/37 [==============================] - 0s 2ms/step - loss: 47864292.7368 - val_loss: 48203592.0000\n",
      "Epoch 107/300\n",
      "37/37 [==============================] - 0s 2ms/step - loss: 46121890.7368 - val_loss: 47471304.0000\n",
      "Epoch 108/300\n",
      "37/37 [==============================] - 0s 2ms/step - loss: 45652099.3684 - val_loss: 46707076.0000\n",
      "Epoch 109/300\n",
      "37/37 [==============================] - 0s 2ms/step - loss: 42484398.1579 - val_loss: 45980784.0000\n",
      "Epoch 110/300\n",
      "37/37 [==============================] - 0s 2ms/step - loss: 42905992.7368 - val_loss: 45212868.0000\n",
      "Epoch 111/300\n",
      "37/37 [==============================] - 0s 2ms/step - loss: 44031134.4211 - val_loss: 44421308.0000\n",
      "Epoch 112/300\n",
      "37/37 [==============================] - 0s 2ms/step - loss: 44592902.3158 - val_loss: 43655480.0000\n",
      "Epoch 113/300\n",
      "37/37 [==============================] - 0s 2ms/step - loss: 42022740.4211 - val_loss: 42863020.0000\n",
      "Epoch 114/300\n",
      "37/37 [==============================] - 0s 2ms/step - loss: 42606947.8947 - val_loss: 42101360.0000\n",
      "Epoch 115/300\n",
      "37/37 [==============================] - 0s 2ms/step - loss: 41020269.4737 - val_loss: 41332688.0000\n",
      "Epoch 116/300\n",
      "37/37 [==============================] - 0s 2ms/step - loss: 38131633.4737 - val_loss: 40580604.0000\n",
      "Epoch 117/300\n",
      "37/37 [==============================] - 0s 2ms/step - loss: 39841895.6842 - val_loss: 39817352.0000\n",
      "Epoch 118/300\n",
      "37/37 [==============================] - 0s 2ms/step - loss: 37612358.6316 - val_loss: 39099056.0000\n",
      "Epoch 119/300\n",
      "37/37 [==============================] - 0s 2ms/step - loss: 38593629.0526 - val_loss: 38391780.0000\n",
      "Epoch 120/300\n",
      "37/37 [==============================] - 0s 2ms/step - loss: 38579276.5263 - val_loss: 37682872.0000\n",
      "Epoch 121/300\n",
      "37/37 [==============================] - 0s 2ms/step - loss: 35721656.7368 - val_loss: 36995740.0000\n",
      "Epoch 122/300\n",
      "37/37 [==============================] - 0s 2ms/step - loss: 35947206.5263 - val_loss: 36306744.0000\n",
      "Epoch 123/300\n",
      "37/37 [==============================] - 0s 2ms/step - loss: 34340977.4211 - val_loss: 35670568.0000\n",
      "Epoch 124/300\n",
      "37/37 [==============================] - 0s 2ms/step - loss: 34128446.3684 - val_loss: 35019456.0000\n",
      "Epoch 125/300\n",
      "37/37 [==============================] - 0s 2ms/step - loss: 33508858.0000 - val_loss: 34414584.0000\n",
      "Epoch 126/300\n",
      "37/37 [==============================] - 0s 2ms/step - loss: 32869061.5789 - val_loss: 33800524.0000\n",
      "Epoch 127/300\n",
      "37/37 [==============================] - 0s 2ms/step - loss: 32494603.6842 - val_loss: 33235150.0000\n",
      "Epoch 128/300\n",
      "37/37 [==============================] - 0s 2ms/step - loss: 30868945.1579 - val_loss: 32683760.0000\n",
      "Epoch 129/300\n",
      "37/37 [==============================] - 0s 2ms/step - loss: 31137980.5789 - val_loss: 32155940.0000\n",
      "Epoch 130/300\n",
      "37/37 [==============================] - 0s 2ms/step - loss: 30655927.3684 - val_loss: 31685800.0000\n",
      "Epoch 131/300\n",
      "37/37 [==============================] - 0s 2ms/step - loss: 30633543.5263 - val_loss: 31171000.0000\n",
      "Epoch 132/300\n",
      "37/37 [==============================] - 0s 2ms/step - loss: 29804898.4737 - val_loss: 30710266.0000\n",
      "Epoch 133/300\n",
      "37/37 [==============================] - 0s 2ms/step - loss: 29739988.0000 - val_loss: 30272722.0000\n",
      "Epoch 134/300\n",
      "37/37 [==============================] - 0s 2ms/step - loss: 28242431.6842 - val_loss: 29866114.0000\n",
      "Epoch 135/300\n",
      "37/37 [==============================] - 0s 2ms/step - loss: 28348951.8947 - val_loss: 29470572.0000\n",
      "Epoch 136/300\n",
      "37/37 [==============================] - 0s 2ms/step - loss: 27905956.5789 - val_loss: 29088876.0000\n",
      "Epoch 137/300\n",
      "37/37 [==============================] - 0s 2ms/step - loss: 28798988.1579 - val_loss: 28694954.0000\n",
      "Epoch 138/300\n",
      "37/37 [==============================] - 0s 2ms/step - loss: 26266739.7368 - val_loss: 28326322.0000\n",
      "Epoch 139/300\n",
      "37/37 [==============================] - 0s 5ms/step - loss: 26319452.7368 - val_loss: 27988812.0000\n",
      "Epoch 140/300\n",
      "37/37 [==============================] - 0s 2ms/step - loss: 27639591.4737 - val_loss: 27658856.0000\n",
      "Epoch 141/300\n",
      "37/37 [==============================] - 0s 2ms/step - loss: 26456857.7368 - val_loss: 27377558.0000\n",
      "Epoch 142/300\n",
      "37/37 [==============================] - 0s 2ms/step - loss: 25149281.5789 - val_loss: 27110328.0000\n",
      "Epoch 143/300\n"
     ]
    },
    {
     "name": "stdout",
     "output_type": "stream",
     "text": [
      "37/37 [==============================] - 0s 4ms/step - loss: 25696542.0526 - val_loss: 26842936.0000\n",
      "Epoch 144/300\n",
      "37/37 [==============================] - 0s 3ms/step - loss: 25706880.5263 - val_loss: 26550548.0000\n",
      "Epoch 145/300\n",
      "37/37 [==============================] - 0s 3ms/step - loss: 25027249.1579 - val_loss: 26318388.0000\n",
      "Epoch 146/300\n",
      "37/37 [==============================] - 0s 3ms/step - loss: 25487225.4211 - val_loss: 26150478.0000\n",
      "Epoch 147/300\n",
      "37/37 [==============================] - 0s 3ms/step - loss: 23581291.8947 - val_loss: 25895872.0000\n",
      "Epoch 148/300\n",
      "37/37 [==============================] - 0s 3ms/step - loss: 24055212.7895 - val_loss: 25707014.0000\n",
      "Epoch 149/300\n",
      "37/37 [==============================] - 0s 3ms/step - loss: 24897132.8947 - val_loss: 25572670.0000\n",
      "Epoch 150/300\n",
      "37/37 [==============================] - 0s 3ms/step - loss: 23673840.1579 - val_loss: 25379666.0000\n",
      "Epoch 151/300\n",
      "37/37 [==============================] - 0s 2ms/step - loss: 24343055.5263 - val_loss: 25201396.0000\n",
      "Epoch 152/300\n",
      "37/37 [==============================] - 0s 2ms/step - loss: 23813591.4211 - val_loss: 25037208.0000\n",
      "Epoch 153/300\n",
      "37/37 [==============================] - 0s 2ms/step - loss: 24728960.3158 - val_loss: 24943022.0000\n",
      "Epoch 154/300\n",
      "37/37 [==============================] - 0s 2ms/step - loss: 23982504.9474 - val_loss: 24738292.0000\n",
      "Epoch 155/300\n",
      "37/37 [==============================] - 0s 2ms/step - loss: 23678652.0000 - val_loss: 24621584.0000\n",
      "Epoch 156/300\n",
      "37/37 [==============================] - 0s 2ms/step - loss: 24215507.2105 - val_loss: 24463808.0000\n",
      "Epoch 157/300\n",
      "37/37 [==============================] - 0s 2ms/step - loss: 23204198.2105 - val_loss: 24368146.0000\n",
      "Epoch 158/300\n",
      "37/37 [==============================] - 0s 2ms/step - loss: 22937959.5789 - val_loss: 24252712.0000\n",
      "Epoch 159/300\n",
      "37/37 [==============================] - 0s 2ms/step - loss: 22711083.1579 - val_loss: 24097664.0000\n",
      "Epoch 160/300\n",
      "37/37 [==============================] - 0s 2ms/step - loss: 22834866.4737 - val_loss: 23996432.0000\n",
      "Epoch 161/300\n",
      "37/37 [==============================] - 0s 2ms/step - loss: 22040148.1053 - val_loss: 23867112.0000\n",
      "Epoch 162/300\n",
      "37/37 [==============================] - 0s 2ms/step - loss: 21685399.0000 - val_loss: 23803398.0000\n",
      "Epoch 163/300\n",
      "37/37 [==============================] - 0s 2ms/step - loss: 22592759.0000 - val_loss: 23698074.0000\n",
      "Epoch 164/300\n",
      "37/37 [==============================] - 0s 2ms/step - loss: 22851926.2368 - val_loss: 23572372.0000\n",
      "Epoch 165/300\n",
      "37/37 [==============================] - 0s 2ms/step - loss: 24297566.1053 - val_loss: 23469014.0000\n",
      "Epoch 166/300\n",
      "37/37 [==============================] - 0s 2ms/step - loss: 21783686.2105 - val_loss: 23389798.0000\n",
      "Epoch 167/300\n",
      "37/37 [==============================] - 0s 2ms/step - loss: 21907432.2105 - val_loss: 23318292.0000\n",
      "Epoch 168/300\n",
      "37/37 [==============================] - 0s 2ms/step - loss: 21695387.8421 - val_loss: 23216486.0000\n",
      "Epoch 169/300\n",
      "37/37 [==============================] - 0s 2ms/step - loss: 22174361.9474 - val_loss: 23159540.0000\n",
      "Epoch 170/300\n",
      "37/37 [==============================] - 0s 2ms/step - loss: 21961963.4211 - val_loss: 23079794.0000\n",
      "Epoch 171/300\n",
      "37/37 [==============================] - 0s 2ms/step - loss: 22959173.4737 - val_loss: 23003820.0000\n",
      "Epoch 172/300\n",
      "37/37 [==============================] - 0s 2ms/step - loss: 22035387.4737 - val_loss: 22931358.0000\n",
      "Epoch 173/300\n",
      "37/37 [==============================] - 0s 2ms/step - loss: 22153807.6842 - val_loss: 22878484.0000\n",
      "Epoch 174/300\n",
      "37/37 [==============================] - 0s 2ms/step - loss: 22443298.4211 - val_loss: 22817882.0000\n",
      "Epoch 175/300\n",
      "37/37 [==============================] - 0s 2ms/step - loss: 21808614.0000 - val_loss: 22776084.0000\n",
      "Epoch 176/300\n",
      "37/37 [==============================] - 0s 2ms/step - loss: 21012181.8947 - val_loss: 22695890.0000\n",
      "Epoch 177/300\n",
      "37/37 [==============================] - 0s 2ms/step - loss: 21768340.8947 - val_loss: 22651668.0000\n",
      "Epoch 178/300\n",
      "37/37 [==============================] - 0s 2ms/step - loss: 21132222.9474 - val_loss: 22618794.0000\n",
      "Epoch 179/300\n",
      "37/37 [==============================] - 0s 2ms/step - loss: 22136153.4211 - val_loss: 22567454.0000\n",
      "Epoch 180/300\n",
      "37/37 [==============================] - 0s 2ms/step - loss: 21444069.4737 - val_loss: 22500622.0000\n",
      "Epoch 181/300\n",
      "37/37 [==============================] - 0s 2ms/step - loss: 21238655.3158 - val_loss: 22458296.0000\n",
      "Epoch 182/300\n",
      "37/37 [==============================] - 0s 2ms/step - loss: 21011526.2105 - val_loss: 22425120.0000\n",
      "Epoch 183/300\n",
      "37/37 [==============================] - 0s 2ms/step - loss: 21242192.0000 - val_loss: 22461008.0000\n",
      "Epoch 184/300\n",
      "37/37 [==============================] - 0s 2ms/step - loss: 22103087.4737 - val_loss: 22336874.0000\n",
      "Epoch 185/300\n",
      "37/37 [==============================] - 0s 2ms/step - loss: 20311008.3158 - val_loss: 22302738.0000\n",
      "Epoch 186/300\n",
      "37/37 [==============================] - 0s 2ms/step - loss: 20671075.2105 - val_loss: 22292408.0000\n",
      "Epoch 187/300\n",
      "37/37 [==============================] - 0s 2ms/step - loss: 21011554.7368 - val_loss: 22213732.0000\n",
      "Epoch 188/300\n",
      "37/37 [==============================] - 0s 2ms/step - loss: 21409465.3158 - val_loss: 22178886.0000\n",
      "Epoch 189/300\n",
      "37/37 [==============================] - 0s 2ms/step - loss: 20829966.1579 - val_loss: 22139458.0000\n",
      "Epoch 190/300\n",
      "37/37 [==============================] - 0s 2ms/step - loss: 20900960.7368 - val_loss: 22149870.0000\n",
      "Epoch 191/300\n",
      "37/37 [==============================] - 0s 2ms/step - loss: 21056464.1053 - val_loss: 22072878.0000\n",
      "Epoch 192/300\n",
      "37/37 [==============================] - 0s 2ms/step - loss: 20358773.3684 - val_loss: 22033316.0000\n",
      "Epoch 193/300\n",
      "37/37 [==============================] - 0s 2ms/step - loss: 20752708.6842 - val_loss: 22067246.0000\n",
      "Epoch 194/300\n",
      "37/37 [==============================] - 0s 2ms/step - loss: 20202004.8684 - val_loss: 21968174.0000\n",
      "Epoch 195/300\n",
      "37/37 [==============================] - 0s 2ms/step - loss: 20184082.4737 - val_loss: 21937728.0000\n",
      "Epoch 196/300\n",
      "37/37 [==============================] - 0s 2ms/step - loss: 20167630.7368 - val_loss: 21907770.0000\n",
      "Epoch 197/300\n",
      "37/37 [==============================] - 0s 2ms/step - loss: 21261862.6842 - val_loss: 21878776.0000\n",
      "Epoch 198/300\n",
      "37/37 [==============================] - 0s 2ms/step - loss: 20780714.8947 - val_loss: 21843134.0000\n",
      "Epoch 199/300\n",
      "37/37 [==============================] - 0s 2ms/step - loss: 20115405.7895 - val_loss: 21817212.0000\n",
      "Epoch 200/300\n",
      "37/37 [==============================] - 0s 2ms/step - loss: 20294598.4737 - val_loss: 21810494.0000\n",
      "Epoch 201/300\n",
      "37/37 [==============================] - 0s 2ms/step - loss: 20075877.4737 - val_loss: 21767796.0000\n",
      "Epoch 202/300\n",
      "37/37 [==============================] - 0s 2ms/step - loss: 21008907.4737 - val_loss: 21736462.0000\n",
      "Epoch 203/300\n",
      "37/37 [==============================] - 0s 2ms/step - loss: 19925315.6579 - val_loss: 21704784.0000\n",
      "Epoch 204/300\n",
      "37/37 [==============================] - 0s 2ms/step - loss: 20978743.7368 - val_loss: 21662168.0000\n",
      "Epoch 205/300\n",
      "37/37 [==============================] - 0s 2ms/step - loss: 20755363.2632 - val_loss: 21635150.0000\n",
      "Epoch 206/300\n",
      "37/37 [==============================] - 0s 2ms/step - loss: 20217412.5263 - val_loss: 21631494.0000\n",
      "Epoch 207/300\n",
      "37/37 [==============================] - 0s 2ms/step - loss: 20661933.4211 - val_loss: 21589988.0000\n",
      "Epoch 208/300\n",
      "37/37 [==============================] - 0s 2ms/step - loss: 20303195.5789 - val_loss: 21556526.0000\n",
      "Epoch 209/300\n",
      "37/37 [==============================] - 0s 2ms/step - loss: 19808373.5789 - val_loss: 21529206.0000\n",
      "Epoch 210/300\n",
      "37/37 [==============================] - 0s 3ms/step - loss: 20693236.7368 - val_loss: 21520096.0000\n",
      "Epoch 211/300\n",
      "37/37 [==============================] - 0s 2ms/step - loss: 20368328.9474 - val_loss: 21469834.0000\n",
      "Epoch 212/300\n",
      "37/37 [==============================] - 0s 2ms/step - loss: 19634959.3684 - val_loss: 21488510.0000\n",
      "Epoch 213/300\n",
      "37/37 [==============================] - 0s 2ms/step - loss: 20466830.6316 - val_loss: 21422466.0000\n",
      "Epoch 214/300\n"
     ]
    },
    {
     "name": "stdout",
     "output_type": "stream",
     "text": [
      "37/37 [==============================] - 0s 2ms/step - loss: 18973926.8421 - val_loss: 21386172.0000\n",
      "Epoch 215/300\n",
      "37/37 [==============================] - 0s 2ms/step - loss: 19771188.6316 - val_loss: 21387158.0000\n",
      "Epoch 216/300\n",
      "37/37 [==============================] - 0s 2ms/step - loss: 19949541.8421 - val_loss: 21348862.0000\n",
      "Epoch 217/300\n",
      "37/37 [==============================] - 0s 3ms/step - loss: 19392964.8158 - val_loss: 21388766.0000\n",
      "Epoch 218/300\n",
      "37/37 [==============================] - 0s 3ms/step - loss: 20249969.2632 - val_loss: 21307794.0000\n",
      "Epoch 219/300\n",
      "37/37 [==============================] - 0s 3ms/step - loss: 20079354.3158 - val_loss: 21307230.0000\n",
      "Epoch 220/300\n",
      "37/37 [==============================] - 0s 2ms/step - loss: 20116375.3684 - val_loss: 21252852.0000\n",
      "Epoch 221/300\n",
      "37/37 [==============================] - 0s 3ms/step - loss: 19542810.8947 - val_loss: 21240630.0000\n",
      "Epoch 222/300\n",
      "37/37 [==============================] - 0s 2ms/step - loss: 19409447.7895 - val_loss: 21313210.0000\n",
      "Epoch 223/300\n",
      "37/37 [==============================] - 0s 2ms/step - loss: 19701474.6842 - val_loss: 21184494.0000\n",
      "Epoch 224/300\n",
      "37/37 [==============================] - 0s 2ms/step - loss: 19757636.2105 - val_loss: 21162754.0000\n",
      "Epoch 225/300\n",
      "37/37 [==============================] - 0s 2ms/step - loss: 19724965.1053 - val_loss: 21152928.0000\n",
      "Epoch 226/300\n",
      "37/37 [==============================] - 0s 2ms/step - loss: 19964109.3158 - val_loss: 21153678.0000\n",
      "Epoch 227/300\n",
      "37/37 [==============================] - 0s 2ms/step - loss: 19655552.8947 - val_loss: 21097390.0000\n",
      "Epoch 228/300\n",
      "37/37 [==============================] - 0s 2ms/step - loss: 20230889.6842 - val_loss: 21123694.0000\n",
      "Epoch 229/300\n",
      "37/37 [==============================] - 0s 2ms/step - loss: 19621009.9474 - val_loss: 21047772.0000\n",
      "Epoch 230/300\n",
      "37/37 [==============================] - 0s 2ms/step - loss: 19679344.5789 - val_loss: 21036218.0000\n",
      "Epoch 231/300\n",
      "37/37 [==============================] - 0s 2ms/step - loss: 19479267.5789 - val_loss: 21014206.0000\n",
      "Epoch 232/300\n",
      "37/37 [==============================] - 0s 2ms/step - loss: 19374812.1579 - val_loss: 21000636.0000\n",
      "Epoch 233/300\n",
      "37/37 [==============================] - 0s 2ms/step - loss: 19810890.2105 - val_loss: 21013554.0000\n",
      "Epoch 234/300\n",
      "37/37 [==============================] - 0s 2ms/step - loss: 19224982.0000 - val_loss: 20961658.0000\n",
      "Epoch 235/300\n",
      "37/37 [==============================] - 0s 2ms/step - loss: 18947617.4211 - val_loss: 20934264.0000\n",
      "Epoch 236/300\n",
      "37/37 [==============================] - 0s 2ms/step - loss: 19534245.4211 - val_loss: 20952912.0000\n",
      "Epoch 237/300\n",
      "37/37 [==============================] - 0s 2ms/step - loss: 19451098.5263 - val_loss: 20890462.0000\n",
      "Epoch 238/300\n",
      "37/37 [==============================] - 0s 2ms/step - loss: 19330718.0000 - val_loss: 20869498.0000\n",
      "Epoch 239/300\n",
      "37/37 [==============================] - 0s 2ms/step - loss: 19457799.0526 - val_loss: 20863402.0000\n",
      "Epoch 240/300\n",
      "37/37 [==============================] - 0s 2ms/step - loss: 19218745.2632 - val_loss: 20839364.0000\n",
      "Epoch 241/300\n",
      "37/37 [==============================] - 0s 2ms/step - loss: 19082809.4737 - val_loss: 20826764.0000\n",
      "Epoch 242/300\n",
      "37/37 [==============================] - 0s 2ms/step - loss: 18864631.4737 - val_loss: 20796046.0000\n",
      "Epoch 243/300\n",
      "37/37 [==============================] - 0s 2ms/step - loss: 19655831.2632 - val_loss: 20802354.0000\n",
      "Epoch 244/300\n",
      "37/37 [==============================] - 0s 2ms/step - loss: 19125922.0000 - val_loss: 20795932.0000\n",
      "Epoch 245/300\n",
      "37/37 [==============================] - 0s 2ms/step - loss: 19829657.8947 - val_loss: 20759110.0000\n",
      "Epoch 246/300\n",
      "37/37 [==============================] - 0s 2ms/step - loss: 18683065.2632 - val_loss: 20811264.0000\n",
      "Epoch 247/300\n",
      "37/37 [==============================] - 0s 2ms/step - loss: 18715892.3684 - val_loss: 20729158.0000\n",
      "Epoch 248/300\n",
      "37/37 [==============================] - 0s 2ms/step - loss: 18762894.3421 - val_loss: 20697702.0000\n",
      "Epoch 249/300\n",
      "37/37 [==============================] - 0s 2ms/step - loss: 18750889.9737 - val_loss: 20731298.0000\n",
      "Epoch 250/300\n",
      "37/37 [==============================] - 0s 2ms/step - loss: 18828048.8421 - val_loss: 20650680.0000\n",
      "Epoch 251/300\n",
      "37/37 [==============================] - 0s 2ms/step - loss: 19475960.6842 - val_loss: 20656002.0000\n",
      "Epoch 252/300\n",
      "37/37 [==============================] - 0s 2ms/step - loss: 19134480.3684 - val_loss: 20637234.0000\n",
      "Epoch 253/300\n",
      "37/37 [==============================] - 0s 2ms/step - loss: 19473216.2632 - val_loss: 20598638.0000\n",
      "Epoch 254/300\n",
      "37/37 [==============================] - 0s 2ms/step - loss: 18657724.8947 - val_loss: 20595724.0000\n",
      "Epoch 255/300\n",
      "37/37 [==============================] - 0s 2ms/step - loss: 18894793.4474 - val_loss: 20586620.0000\n",
      "Epoch 256/300\n",
      "37/37 [==============================] - 0s 2ms/step - loss: 18264796.7895 - val_loss: 20561920.0000\n",
      "Epoch 257/300\n",
      "37/37 [==============================] - 0s 2ms/step - loss: 19769064.3684 - val_loss: 20537838.0000\n",
      "Epoch 258/300\n",
      "37/37 [==============================] - 0s 2ms/step - loss: 19351953.4737 - val_loss: 20545960.0000\n",
      "Epoch 259/300\n",
      "37/37 [==============================] - 0s 2ms/step - loss: 19154330.9474 - val_loss: 20632218.0000\n",
      "Epoch 260/300\n",
      "37/37 [==============================] - 0s 2ms/step - loss: 19039640.3158 - val_loss: 20502152.0000\n",
      "Epoch 261/300\n",
      "37/37 [==============================] - 0s 2ms/step - loss: 19651318.1053 - val_loss: 20552342.0000\n",
      "Epoch 262/300\n",
      "37/37 [==============================] - 0s 2ms/step - loss: 18973080.2632 - val_loss: 20478968.0000\n",
      "Epoch 263/300\n",
      "37/37 [==============================] - 0s 2ms/step - loss: 19011601.0000 - val_loss: 20485826.0000\n",
      "Epoch 264/300\n",
      "37/37 [==============================] - 0s 2ms/step - loss: 19002264.1316 - val_loss: 20438716.0000\n",
      "Epoch 265/300\n",
      "37/37 [==============================] - 0s 2ms/step - loss: 19319674.6316 - val_loss: 20426414.0000\n",
      "Epoch 266/300\n",
      "37/37 [==============================] - 0s 2ms/step - loss: 18690381.0000 - val_loss: 20419522.0000\n",
      "Epoch 267/300\n",
      "37/37 [==============================] - 0s 2ms/step - loss: 18807878.7368 - val_loss: 20448618.0000\n",
      "Epoch 268/300\n",
      "37/37 [==============================] - 0s 2ms/step - loss: 18838896.1579 - val_loss: 20420270.0000\n",
      "Epoch 269/300\n",
      "37/37 [==============================] - 0s 2ms/step - loss: 18443186.8684 - val_loss: 20369922.0000\n",
      "Epoch 270/300\n",
      "37/37 [==============================] - 0s 3ms/step - loss: 18998539.0000 - val_loss: 20368164.0000\n",
      "Epoch 271/300\n",
      "37/37 [==============================] - 0s 2ms/step - loss: 19009501.2632 - val_loss: 20365902.0000\n",
      "Epoch 272/300\n",
      "37/37 [==============================] - 0s 2ms/step - loss: 18381155.1579 - val_loss: 20360522.0000\n",
      "Epoch 273/300\n",
      "37/37 [==============================] - 0s 2ms/step - loss: 18645041.8421 - val_loss: 20341020.0000\n",
      "Epoch 274/300\n",
      "37/37 [==============================] - 0s 2ms/step - loss: 19293475.6842 - val_loss: 20306868.0000\n",
      "Epoch 275/300\n",
      "37/37 [==============================] - 0s 2ms/step - loss: 19126920.7368 - val_loss: 20302180.0000\n",
      "Epoch 276/300\n",
      "37/37 [==============================] - 0s 2ms/step - loss: 17952544.0526 - val_loss: 20310204.0000\n",
      "Epoch 277/300\n",
      "37/37 [==============================] - 0s 2ms/step - loss: 18866835.6842 - val_loss: 20275228.0000\n",
      "Epoch 278/300\n",
      "37/37 [==============================] - 0s 2ms/step - loss: 18701743.2632 - val_loss: 20287942.0000\n",
      "Epoch 279/300\n",
      "37/37 [==============================] - 0s 2ms/step - loss: 18577413.6316 - val_loss: 20264728.0000\n",
      "Epoch 280/300\n",
      "37/37 [==============================] - 0s 3ms/step - loss: 18510207.1842 - val_loss: 20227898.0000\n",
      "Epoch 281/300\n",
      "37/37 [==============================] - 0s 2ms/step - loss: 18279904.2895 - val_loss: 20227830.0000\n",
      "Epoch 282/300\n",
      "37/37 [==============================] - 0s 2ms/step - loss: 18487176.4211 - val_loss: 20284982.0000\n",
      "Epoch 283/300\n",
      "37/37 [==============================] - 0s 2ms/step - loss: 17860019.8684 - val_loss: 20214482.0000\n",
      "Epoch 284/300\n",
      "37/37 [==============================] - 0s 2ms/step - loss: 18718049.5263 - val_loss: 20187730.0000\n",
      "Epoch 285/300\n"
     ]
    },
    {
     "name": "stdout",
     "output_type": "stream",
     "text": [
      "37/37 [==============================] - 0s 2ms/step - loss: 18794314.1579 - val_loss: 20182096.0000\n",
      "Epoch 286/300\n",
      "37/37 [==============================] - 0s 2ms/step - loss: 19136582.3684 - val_loss: 20184676.0000\n",
      "Epoch 287/300\n",
      "37/37 [==============================] - 0s 2ms/step - loss: 18798658.2105 - val_loss: 20184716.0000\n",
      "Epoch 288/300\n",
      "37/37 [==============================] - 0s 2ms/step - loss: 18578657.4211 - val_loss: 20154442.0000\n",
      "Epoch 289/300\n",
      "37/37 [==============================] - 0s 2ms/step - loss: 18574942.4211 - val_loss: 20181824.0000\n",
      "Epoch 290/300\n",
      "37/37 [==============================] - 0s 2ms/step - loss: 18374011.8947 - val_loss: 20142170.0000\n",
      "Epoch 291/300\n",
      "37/37 [==============================] - 0s 2ms/step - loss: 19137292.9474 - val_loss: 20163766.0000\n",
      "Epoch 292/300\n",
      "37/37 [==============================] - 0s 2ms/step - loss: 18139040.1053 - val_loss: 20134902.0000\n",
      "Epoch 293/300\n",
      "37/37 [==============================] - 0s 2ms/step - loss: 18891591.5263 - val_loss: 20115316.0000\n",
      "Epoch 294/300\n",
      "37/37 [==============================] - 0s 2ms/step - loss: 18740584.3684 - val_loss: 20118414.0000\n",
      "Epoch 295/300\n",
      "37/37 [==============================] - 0s 2ms/step - loss: 18580592.5789 - val_loss: 20087160.0000\n",
      "Epoch 296/300\n",
      "37/37 [==============================] - 0s 2ms/step - loss: 17999585.3684 - val_loss: 20093078.0000\n",
      "Epoch 297/300\n",
      "37/37 [==============================] - 0s 2ms/step - loss: 18402717.6579 - val_loss: 20080942.0000\n",
      "Epoch 298/300\n",
      "37/37 [==============================] - 0s 2ms/step - loss: 18836913.6842 - val_loss: 20053770.0000\n",
      "Epoch 299/300\n",
      "37/37 [==============================] - 0s 2ms/step - loss: 18635232.1579 - val_loss: 20047744.0000\n",
      "Epoch 300/300\n",
      "37/37 [==============================] - 0s 2ms/step - loss: 18319266.2632 - val_loss: 20037716.0000\n"
     ]
    },
    {
     "data": {
      "text/plain": [
       "<tensorflow.python.keras.callbacks.History at 0x12bdecdd9a0>"
      ]
     },
     "execution_count": 39,
     "metadata": {},
     "output_type": "execute_result"
    }
   ],
   "source": [
    "model.fit(x=x_train,y=y_train,validation_data=(x_test,y_test), batch_size=250, epochs=300) #train ve test loss karşılaştırmasını direk hesaplamak için validation_data() kullandık. bize loss ve val_loss verdi"
   ]
  },
  {
   "cell_type": "code",
   "execution_count": 40,
   "metadata": {},
   "outputs": [],
   "source": [
    "kayipVerisi = pd.DataFrame(model.history.history)"
   ]
  },
  {
   "cell_type": "code",
   "execution_count": 41,
   "metadata": {},
   "outputs": [
    {
     "data": {
      "text/html": [
       "<div>\n",
       "<style scoped>\n",
       "    .dataframe tbody tr th:only-of-type {\n",
       "        vertical-align: middle;\n",
       "    }\n",
       "\n",
       "    .dataframe tbody tr th {\n",
       "        vertical-align: top;\n",
       "    }\n",
       "\n",
       "    .dataframe thead th {\n",
       "        text-align: right;\n",
       "    }\n",
       "</style>\n",
       "<table border=\"1\" class=\"dataframe\">\n",
       "  <thead>\n",
       "    <tr style=\"text-align: right;\">\n",
       "      <th></th>\n",
       "      <th>loss</th>\n",
       "      <th>val_loss</th>\n",
       "    </tr>\n",
       "  </thead>\n",
       "  <tbody>\n",
       "    <tr>\n",
       "      <th>0</th>\n",
       "      <td>672142464.0</td>\n",
       "      <td>688097152.0</td>\n",
       "    </tr>\n",
       "    <tr>\n",
       "      <th>1</th>\n",
       "      <td>672111232.0</td>\n",
       "      <td>688044416.0</td>\n",
       "    </tr>\n",
       "    <tr>\n",
       "      <th>2</th>\n",
       "      <td>672021248.0</td>\n",
       "      <td>687893888.0</td>\n",
       "    </tr>\n",
       "    <tr>\n",
       "      <th>3</th>\n",
       "      <td>671770752.0</td>\n",
       "      <td>687484352.0</td>\n",
       "    </tr>\n",
       "    <tr>\n",
       "      <th>4</th>\n",
       "      <td>671109440.0</td>\n",
       "      <td>686432960.0</td>\n",
       "    </tr>\n",
       "  </tbody>\n",
       "</table>\n",
       "</div>"
      ],
      "text/plain": [
       "          loss     val_loss\n",
       "0  672142464.0  688097152.0\n",
       "1  672111232.0  688044416.0\n",
       "2  672021248.0  687893888.0\n",
       "3  671770752.0  687484352.0\n",
       "4  671109440.0  686432960.0"
      ]
     },
     "execution_count": 41,
     "metadata": {},
     "output_type": "execute_result"
    }
   ],
   "source": [
    "kayipVerisi.head()"
   ]
  },
  {
   "cell_type": "code",
   "execution_count": 42,
   "metadata": {},
   "outputs": [
    {
     "data": {
      "text/plain": [
       "<matplotlib.axes._subplots.AxesSubplot at 0x12be0a07e80>"
      ]
     },
     "execution_count": 42,
     "metadata": {},
     "output_type": "execute_result"
    },
    {
     "data": {
      "image/png": "[encoded data removed]",
      "text/plain": [
       "<Figure size 432x288 with 1 Axes>"
      ]
     },
     "metadata": {
      "needs_background": "light"
     },
     "output_type": "display_data"
    }
   ],
   "source": [
    "kayipVerisi.plot()"
   ]
  },
  {
   "cell_type": "code",
   "execution_count": 43,
   "metadata": {},
   "outputs": [],
   "source": [
    "from sklearn.metrics import mean_squared_error,mean_absolute_error"
   ]
  },
  {
   "cell_type": "code",
   "execution_count": 44,
   "metadata": {},
   "outputs": [],
   "source": [
    "tahminDisizi = model.predict(x_test)"
   ]
  },
  {
   "cell_type": "code",
   "execution_count": 45,
   "metadata": {},
   "outputs": [
    {
     "data": {
      "text/plain": [
       "array([[22707.69 ],\n",
       "       [23169.232],\n",
       "       [24839.662],\n",
       "       ...,\n",
       "       [26185.156],\n",
       "       [13437.391],\n",
       "       [24636.254]], dtype=float32)"
      ]
     },
     "execution_count": 45,
     "metadata": {},
     "output_type": "execute_result"
    }
   ],
   "source": [
    "tahminDisizi"
   ]
  },
  {
   "cell_type": "code",
   "execution_count": 46,
   "metadata": {},
   "outputs": [
    {
     "data": {
      "text/plain": [
       "3189.697557754262"
      ]
     },
     "execution_count": 46,
     "metadata": {},
     "output_type": "execute_result"
    }
   ],
   "source": [
    "mean_absolute_error(y_test,tahminDisizi)"
   ]
  },
  {
   "cell_type": "code",
   "execution_count": 47,
   "metadata": {},
   "outputs": [
    {
     "data": {
      "text/html": [
       "<div>\n",
       "<style scoped>\n",
       "    .dataframe tbody tr th:only-of-type {\n",
       "        vertical-align: middle;\n",
       "    }\n",
       "\n",
       "    .dataframe tbody tr th {\n",
       "        vertical-align: top;\n",
       "    }\n",
       "\n",
       "    .dataframe thead th {\n",
       "        text-align: right;\n",
       "    }\n",
       "</style>\n",
       "<table border=\"1\" class=\"dataframe\">\n",
       "  <thead>\n",
       "    <tr style=\"text-align: right;\">\n",
       "      <th></th>\n",
       "      <th>year</th>\n",
       "      <th>price</th>\n",
       "      <th>mileage</th>\n",
       "      <th>tax</th>\n",
       "      <th>mpg</th>\n",
       "      <th>engineSize</th>\n",
       "    </tr>\n",
       "  </thead>\n",
       "  <tbody>\n",
       "    <tr>\n",
       "      <th>count</th>\n",
       "      <td>12987.000000</td>\n",
       "      <td>12987.000000</td>\n",
       "      <td>12987.000000</td>\n",
       "      <td>12987.000000</td>\n",
       "      <td>12987.000000</td>\n",
       "      <td>12987.000000</td>\n",
       "    </tr>\n",
       "    <tr>\n",
       "      <th>mean</th>\n",
       "      <td>2017.285516</td>\n",
       "      <td>24074.855779</td>\n",
       "      <td>22133.367367</td>\n",
       "      <td>129.676215</td>\n",
       "      <td>55.438392</td>\n",
       "      <td>2.051059</td>\n",
       "    </tr>\n",
       "    <tr>\n",
       "      <th>std</th>\n",
       "      <td>2.189633</td>\n",
       "      <td>9866.601115</td>\n",
       "      <td>21197.472376</td>\n",
       "      <td>65.167429</td>\n",
       "      <td>15.025902</td>\n",
       "      <td>0.532313</td>\n",
       "    </tr>\n",
       "    <tr>\n",
       "      <th>min</th>\n",
       "      <td>1997.000000</td>\n",
       "      <td>650.000000</td>\n",
       "      <td>1.000000</td>\n",
       "      <td>0.000000</td>\n",
       "      <td>1.100000</td>\n",
       "      <td>0.000000</td>\n",
       "    </tr>\n",
       "    <tr>\n",
       "      <th>25%</th>\n",
       "      <td>2016.000000</td>\n",
       "      <td>17355.000000</td>\n",
       "      <td>6320.000000</td>\n",
       "      <td>125.000000</td>\n",
       "      <td>45.600000</td>\n",
       "      <td>1.700000</td>\n",
       "    </tr>\n",
       "    <tr>\n",
       "      <th>50%</th>\n",
       "      <td>2018.000000</td>\n",
       "      <td>22299.000000</td>\n",
       "      <td>15371.000000</td>\n",
       "      <td>145.000000</td>\n",
       "      <td>56.500000</td>\n",
       "      <td>2.000000</td>\n",
       "    </tr>\n",
       "    <tr>\n",
       "      <th>75%</th>\n",
       "      <td>2019.000000</td>\n",
       "      <td>28706.000000</td>\n",
       "      <td>31986.500000</td>\n",
       "      <td>145.000000</td>\n",
       "      <td>64.200000</td>\n",
       "      <td>2.100000</td>\n",
       "    </tr>\n",
       "    <tr>\n",
       "      <th>max</th>\n",
       "      <td>2020.000000</td>\n",
       "      <td>65990.000000</td>\n",
       "      <td>259000.000000</td>\n",
       "      <td>580.000000</td>\n",
       "      <td>217.300000</td>\n",
       "      <td>6.200000</td>\n",
       "    </tr>\n",
       "  </tbody>\n",
       "</table>\n",
       "</div>"
      ],
      "text/plain": [
       "               year         price        mileage           tax           mpg  \\\n",
       "count  12987.000000  12987.000000   12987.000000  12987.000000  12987.000000   \n",
       "mean    2017.285516  24074.855779   22133.367367    129.676215     55.438392   \n",
       "std        2.189633   9866.601115   21197.472376     65.167429     15.025902   \n",
       "min     1997.000000    650.000000       1.000000      0.000000      1.100000   \n",
       "25%     2016.000000  17355.000000    6320.000000    125.000000     45.600000   \n",
       "50%     2018.000000  22299.000000   15371.000000    145.000000     56.500000   \n",
       "75%     2019.000000  28706.000000   31986.500000    145.000000     64.200000   \n",
       "max     2020.000000  65990.000000  259000.000000    580.000000    217.300000   \n",
       "\n",
       "         engineSize  \n",
       "count  12987.000000  \n",
       "mean       2.051059  \n",
       "std        0.532313  \n",
       "min        0.000000  \n",
       "25%        1.700000  \n",
       "50%        2.000000  \n",
       "75%        2.100000  \n",
       "max        6.200000  "
      ]
     },
     "execution_count": 47,
     "metadata": {},
     "output_type": "execute_result"
    }
   ],
   "source": [
    "dataFrame.describe()"
   ]
  },
  {
   "cell_type": "code",
   "execution_count": 50,
   "metadata": {},
   "outputs": [
    {
     "data": {
      "text/plain": [
       "[<matplotlib.lines.Line2D at 0x12be0570d60>]"
      ]
     },
     "execution_count": 50,
     "metadata": {},
     "output_type": "execute_result"
    },
    {
     "data": {
      "image/png": "[encoded data removed]",
      "text/plain": [
       "<Figure size 432x288 with 1 Axes>"
      ]
     },
     "metadata": {
      "needs_background": "light"
     },
     "output_type": "display_data"
    }
   ],
   "source": [
    "plt.scatter(y_test,tahminDisizi)\n",
    "plt.plot(y_test,y_test,\"g-*\") #düz çizgiyi elde etmek için"
   ]
  },
  {
   "cell_type": "code",
   "execution_count": 51,
   "metadata": {},
   "outputs": [
    {
     "data": {
      "text/plain": [
       "year           2020.0\n",
       "price         65980.0\n",
       "mileage        3999.0\n",
       "tax             145.0\n",
       "mpg              28.0\n",
       "engineSize        4.0\n",
       "Name: 3191, dtype: float64"
      ]
     },
     "execution_count": 51,
     "metadata": {},
     "output_type": "execute_result"
    }
   ],
   "source": [
    "#başka bir veriyi koyup deneyelim\n",
    "dataFrame.iloc[2]#3.elemanı getirir"
   ]
  },
  {
   "cell_type": "code",
   "execution_count": 60,
   "metadata": {},
   "outputs": [],
   "source": [
    "yeniArabaSeries = dataFrame.drop(\"price\",axis=1).iloc[2]"
   ]
  },
  {
   "cell_type": "code",
   "execution_count": 61,
   "metadata": {},
   "outputs": [
    {
     "data": {
      "text/plain": [
       "year          2020.0\n",
       "mileage       3999.0\n",
       "tax            145.0\n",
       "mpg             28.0\n",
       "engineSize       4.0\n",
       "Name: 3191, dtype: float64"
      ]
     },
     "execution_count": 61,
     "metadata": {},
     "output_type": "execute_result"
    }
   ],
   "source": [
    "yeniArabaSeries"
   ]
  },
  {
   "cell_type": "code",
   "execution_count": 62,
   "metadata": {},
   "outputs": [
    {
     "data": {
      "text/plain": [
       "pandas.core.series.Series"
      ]
     },
     "execution_count": 62,
     "metadata": {},
     "output_type": "execute_result"
    }
   ],
   "source": [
    "type(yeniArabaSeries) #numpy serisine çevirmemiz gerek"
   ]
  },
  {
   "cell_type": "code",
   "execution_count": 63,
   "metadata": {},
   "outputs": [],
   "source": [
    "yeniArabaSeries = scaler.transform(yeniArabaSeries.values.reshape(-1,5))"
   ]
  },
  {
   "cell_type": "code",
   "execution_count": 64,
   "metadata": {},
   "outputs": [
    {
     "data": {
      "text/plain": [
       "array([[62639.18]], dtype=float32)"
      ]
     },
     "execution_count": 64,
     "metadata": {},
     "output_type": "execute_result"
    }
   ],
   "source": [
    "model.predict(yeniArabaSeries)"
   ]
  },
  {
   "cell_type": "code",
   "execution_count": null,
   "metadata": {},
   "outputs": [],
   "source": []
  }
 ],
 "metadata": {
  "kernelspec": {
   "display_name": "Python 3",
   "language": "python",
   "name": "python3"
  },
  "language_info": {
   "codemirror_mode": {
    "name": "ipython",
    "version": 3
   },
   "file_extension": ".py",
   "mimetype": "text/x-python",
   "name": "python",
   "nbconvert_exporter": "python",
   "pygments_lexer": "ipython3",
   "version": "3.8.3"
  }
 },
 "nbformat": 4,
 "nbformat_minor": 4
}
